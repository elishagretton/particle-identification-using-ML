{
  "nbformat": 4,
  "nbformat_minor": 0,
  "metadata": {
    "colab": {
      "name": "Assignment 2 - MAS61007.ipynb",
      "provenance": [],
      "collapsed_sections": [
        "Bw16Bdm9dR-R",
        "a9Ar3sK3Ys-P",
        "1m9BhPCbakby",
        "sWhjaHHpdIqU",
        "_09zydGudMUv"
      ]
    },
    "kernelspec": {
      "name": "python3",
      "display_name": "Python 3"
    },
    "language_info": {
      "name": "python"
    }
  },
  "cells": [
    {
      "cell_type": "markdown",
      "metadata": {
        "id": "Bw16Bdm9dR-R"
      },
      "source": [
        "# Loading file"
      ]
    },
    {
      "cell_type": "code",
      "metadata": {
        "colab": {
          "resources": {
            "http://localhost:8080/nbextensions/google.colab/files.js": {
              "data": "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",
              "ok": true,
              "headers": [
                [
                  "content-type",
                  "application/javascript"
                ]
              ],
              "status": 200,
              "status_text": ""
            }
          },
          "base_uri": "https://localhost:8080/",
          "height": 72
        },
        "id": "YBGguo9NYhQ5",
        "outputId": "f95a0572-9d66-4e2a-e89f-97fe793b9c44"
      },
      "source": [
        "from google.colab import files\n",
        "import pandas as pd\n",
        "import io\n",
        "\n",
        "gamma = files.upload()\n",
        "gamma = pd.read_csv(io.BytesIO(gamma['gamma.csv']))"
      ],
      "execution_count": null,
      "outputs": [
        {
          "output_type": "display_data",
          "data": {
            "text/html": [
              "\n",
              "     <input type=\"file\" id=\"files-a301d9b8-aa02-4990-926e-70b95a1d630b\" name=\"files[]\" multiple disabled\n",
              "        style=\"border:none\" />\n",
              "     <output id=\"result-a301d9b8-aa02-4990-926e-70b95a1d630b\">\n",
              "      Upload widget is only available when the cell has been executed in the\n",
              "      current browser session. Please rerun this cell to enable.\n",
              "      </output>\n",
              "      <script src=\"/nbextensions/google.colab/files.js\"></script> "
            ],
            "text/plain": [
              "<IPython.core.display.HTML object>"
            ]
          },
          "metadata": {}
        },
        {
          "output_type": "stream",
          "name": "stdout",
          "text": [
            "Saving gamma.csv to gamma (2).csv\n"
          ]
        }
      ]
    },
    {
      "cell_type": "code",
      "source": [
        "gamma"
      ],
      "metadata": {
        "colab": {
          "base_uri": "https://localhost:8080/",
          "height": 487
        },
        "id": "Z5RhMcF6XuWp",
        "outputId": "68b9f728-ed22-4579-b2bd-dec235ccde0c"
      },
      "execution_count": null,
      "outputs": [
        {
          "output_type": "execute_result",
          "data": {
            "text/html": [
              "\n",
              "  <div id=\"df-1fa078d7-4122-421a-9654-99036ebb9763\">\n",
              "    <div class=\"colab-df-container\">\n",
              "      <div>\n",
              "<style scoped>\n",
              "    .dataframe tbody tr th:only-of-type {\n",
              "        vertical-align: middle;\n",
              "    }\n",
              "\n",
              "    .dataframe tbody tr th {\n",
              "        vertical-align: top;\n",
              "    }\n",
              "\n",
              "    .dataframe thead th {\n",
              "        text-align: right;\n",
              "    }\n",
              "</style>\n",
              "<table border=\"1\" class=\"dataframe\">\n",
              "  <thead>\n",
              "    <tr style=\"text-align: right;\">\n",
              "      <th></th>\n",
              "      <th>Length</th>\n",
              "      <th>Width</th>\n",
              "      <th>Size</th>\n",
              "      <th>Conc</th>\n",
              "      <th>Conc1</th>\n",
              "      <th>Asym</th>\n",
              "      <th>M3Long</th>\n",
              "      <th>M3Trans</th>\n",
              "      <th>Alpha</th>\n",
              "      <th>Dist</th>\n",
              "      <th>class</th>\n",
              "    </tr>\n",
              "  </thead>\n",
              "  <tbody>\n",
              "    <tr>\n",
              "      <th>0</th>\n",
              "      <td>38.7514</td>\n",
              "      <td>22.2191</td>\n",
              "      <td>3.1933</td>\n",
              "      <td>0.2666</td>\n",
              "      <td>0.1612</td>\n",
              "      <td>8.7684</td>\n",
              "      <td>38.9052</td>\n",
              "      <td>-10.5884</td>\n",
              "      <td>13.5898</td>\n",
              "      <td>113.6660</td>\n",
              "      <td>g</td>\n",
              "    </tr>\n",
              "    <tr>\n",
              "      <th>1</th>\n",
              "      <td>25.0243</td>\n",
              "      <td>18.4051</td>\n",
              "      <td>2.5453</td>\n",
              "      <td>0.4672</td>\n",
              "      <td>0.2949</td>\n",
              "      <td>2.8213</td>\n",
              "      <td>-21.7414</td>\n",
              "      <td>-15.2108</td>\n",
              "      <td>29.5560</td>\n",
              "      <td>141.1230</td>\n",
              "      <td>g</td>\n",
              "    </tr>\n",
              "    <tr>\n",
              "      <th>2</th>\n",
              "      <td>24.8746</td>\n",
              "      <td>16.3143</td>\n",
              "      <td>2.6518</td>\n",
              "      <td>0.4660</td>\n",
              "      <td>0.2375</td>\n",
              "      <td>7.8902</td>\n",
              "      <td>20.5957</td>\n",
              "      <td>14.1454</td>\n",
              "      <td>48.4930</td>\n",
              "      <td>150.9500</td>\n",
              "      <td>g</td>\n",
              "    </tr>\n",
              "    <tr>\n",
              "      <th>3</th>\n",
              "      <td>25.2958</td>\n",
              "      <td>9.4956</td>\n",
              "      <td>2.4401</td>\n",
              "      <td>0.5154</td>\n",
              "      <td>0.2813</td>\n",
              "      <td>5.6749</td>\n",
              "      <td>17.8278</td>\n",
              "      <td>7.2557</td>\n",
              "      <td>18.1924</td>\n",
              "      <td>181.3970</td>\n",
              "      <td>g</td>\n",
              "    </tr>\n",
              "    <tr>\n",
              "      <th>4</th>\n",
              "      <td>13.3286</td>\n",
              "      <td>10.5157</td>\n",
              "      <td>2.1945</td>\n",
              "      <td>0.7923</td>\n",
              "      <td>0.4313</td>\n",
              "      <td>14.3543</td>\n",
              "      <td>4.3614</td>\n",
              "      <td>11.7594</td>\n",
              "      <td>76.3310</td>\n",
              "      <td>189.4840</td>\n",
              "      <td>g</td>\n",
              "    </tr>\n",
              "    <tr>\n",
              "      <th>...</th>\n",
              "      <td>...</td>\n",
              "      <td>...</td>\n",
              "      <td>...</td>\n",
              "      <td>...</td>\n",
              "      <td>...</td>\n",
              "      <td>...</td>\n",
              "      <td>...</td>\n",
              "      <td>...</td>\n",
              "      <td>...</td>\n",
              "      <td>...</td>\n",
              "      <td>...</td>\n",
              "    </tr>\n",
              "    <tr>\n",
              "      <th>3995</th>\n",
              "      <td>24.7271</td>\n",
              "      <td>14.5628</td>\n",
              "      <td>2.6069</td>\n",
              "      <td>0.4277</td>\n",
              "      <td>0.2460</td>\n",
              "      <td>-8.7600</td>\n",
              "      <td>-14.9319</td>\n",
              "      <td>8.5488</td>\n",
              "      <td>79.5231</td>\n",
              "      <td>203.7670</td>\n",
              "      <td>h</td>\n",
              "    </tr>\n",
              "    <tr>\n",
              "      <th>3996</th>\n",
              "      <td>111.6050</td>\n",
              "      <td>32.5335</td>\n",
              "      <td>2.6830</td>\n",
              "      <td>0.4274</td>\n",
              "      <td>0.2313</td>\n",
              "      <td>-54.2801</td>\n",
              "      <td>-134.0820</td>\n",
              "      <td>-29.3282</td>\n",
              "      <td>31.6660</td>\n",
              "      <td>185.5320</td>\n",
              "      <td>h</td>\n",
              "    </tr>\n",
              "    <tr>\n",
              "      <th>3997</th>\n",
              "      <td>110.1360</td>\n",
              "      <td>39.4236</td>\n",
              "      <td>3.3553</td>\n",
              "      <td>0.1774</td>\n",
              "      <td>0.0920</td>\n",
              "      <td>-65.5715</td>\n",
              "      <td>-112.8890</td>\n",
              "      <td>19.1856</td>\n",
              "      <td>47.3655</td>\n",
              "      <td>181.1990</td>\n",
              "      <td>h</td>\n",
              "    </tr>\n",
              "    <tr>\n",
              "      <th>3998</th>\n",
              "      <td>33.5344</td>\n",
              "      <td>17.8185</td>\n",
              "      <td>2.5874</td>\n",
              "      <td>0.3295</td>\n",
              "      <td>0.1938</td>\n",
              "      <td>-8.3554</td>\n",
              "      <td>26.7120</td>\n",
              "      <td>8.4603</td>\n",
              "      <td>85.7651</td>\n",
              "      <td>140.1944</td>\n",
              "      <td>h</td>\n",
              "    </tr>\n",
              "    <tr>\n",
              "      <th>3999</th>\n",
              "      <td>67.0744</td>\n",
              "      <td>20.1901</td>\n",
              "      <td>3.0844</td>\n",
              "      <td>0.4584</td>\n",
              "      <td>0.3572</td>\n",
              "      <td>-33.1382</td>\n",
              "      <td>-61.3223</td>\n",
              "      <td>-4.2609</td>\n",
              "      <td>12.4831</td>\n",
              "      <td>290.1345</td>\n",
              "      <td>h</td>\n",
              "    </tr>\n",
              "  </tbody>\n",
              "</table>\n",
              "<p>4000 rows × 11 columns</p>\n",
              "</div>\n",
              "      <button class=\"colab-df-convert\" onclick=\"convertToInteractive('df-1fa078d7-4122-421a-9654-99036ebb9763')\"\n",
              "              title=\"Convert this dataframe to an interactive table.\"\n",
              "              style=\"display:none;\">\n",
              "        \n",
              "  <svg xmlns=\"http://www.w3.org/2000/svg\" height=\"24px\"viewBox=\"0 0 24 24\"\n",
              "       width=\"24px\">\n",
              "    <path d=\"M0 0h24v24H0V0z\" fill=\"none\"/>\n",
              "    <path d=\"M18.56 5.44l.94 2.06.94-2.06 2.06-.94-2.06-.94-.94-2.06-.94 2.06-2.06.94zm-11 1L8.5 8.5l.94-2.06 2.06-.94-2.06-.94L8.5 2.5l-.94 2.06-2.06.94zm10 10l.94 2.06.94-2.06 2.06-.94-2.06-.94-.94-2.06-.94 2.06-2.06.94z\"/><path d=\"M17.41 7.96l-1.37-1.37c-.4-.4-.92-.59-1.43-.59-.52 0-1.04.2-1.43.59L10.3 9.45l-7.72 7.72c-.78.78-.78 2.05 0 2.83L4 21.41c.39.39.9.59 1.41.59.51 0 1.02-.2 1.41-.59l7.78-7.78 2.81-2.81c.8-.78.8-2.07 0-2.86zM5.41 20L4 18.59l7.72-7.72 1.47 1.35L5.41 20z\"/>\n",
              "  </svg>\n",
              "      </button>\n",
              "      \n",
              "  <style>\n",
              "    .colab-df-container {\n",
              "      display:flex;\n",
              "      flex-wrap:wrap;\n",
              "      gap: 12px;\n",
              "    }\n",
              "\n",
              "    .colab-df-convert {\n",
              "      background-color: #E8F0FE;\n",
              "      border: none;\n",
              "      border-radius: 50%;\n",
              "      cursor: pointer;\n",
              "      display: none;\n",
              "      fill: #1967D2;\n",
              "      height: 32px;\n",
              "      padding: 0 0 0 0;\n",
              "      width: 32px;\n",
              "    }\n",
              "\n",
              "    .colab-df-convert:hover {\n",
              "      background-color: #E2EBFA;\n",
              "      box-shadow: 0px 1px 2px rgba(60, 64, 67, 0.3), 0px 1px 3px 1px rgba(60, 64, 67, 0.15);\n",
              "      fill: #174EA6;\n",
              "    }\n",
              "\n",
              "    [theme=dark] .colab-df-convert {\n",
              "      background-color: #3B4455;\n",
              "      fill: #D2E3FC;\n",
              "    }\n",
              "\n",
              "    [theme=dark] .colab-df-convert:hover {\n",
              "      background-color: #434B5C;\n",
              "      box-shadow: 0px 1px 3px 1px rgba(0, 0, 0, 0.15);\n",
              "      filter: drop-shadow(0px 1px 2px rgba(0, 0, 0, 0.3));\n",
              "      fill: #FFFFFF;\n",
              "    }\n",
              "  </style>\n",
              "\n",
              "      <script>\n",
              "        const buttonEl =\n",
              "          document.querySelector('#df-1fa078d7-4122-421a-9654-99036ebb9763 button.colab-df-convert');\n",
              "        buttonEl.style.display =\n",
              "          google.colab.kernel.accessAllowed ? 'block' : 'none';\n",
              "\n",
              "        async function convertToInteractive(key) {\n",
              "          const element = document.querySelector('#df-1fa078d7-4122-421a-9654-99036ebb9763');\n",
              "          const dataTable =\n",
              "            await google.colab.kernel.invokeFunction('convertToInteractive',\n",
              "                                                     [key], {});\n",
              "          if (!dataTable) return;\n",
              "\n",
              "          const docLinkHtml = 'Like what you see? Visit the ' +\n",
              "            '<a target=\"_blank\" href=https://colab.research.google.com/notebooks/data_table.ipynb>data table notebook</a>'\n",
              "            + ' to learn more about interactive tables.';\n",
              "          element.innerHTML = '';\n",
              "          dataTable['output_type'] = 'display_data';\n",
              "          await google.colab.output.renderOutput(dataTable, element);\n",
              "          const docLink = document.createElement('div');\n",
              "          docLink.innerHTML = docLinkHtml;\n",
              "          element.appendChild(docLink);\n",
              "        }\n",
              "      </script>\n",
              "    </div>\n",
              "  </div>\n",
              "  "
            ],
            "text/plain": [
              "        Length    Width    Size    Conc  ...  M3Trans    Alpha      Dist  class\n",
              "0      38.7514  22.2191  3.1933  0.2666  ... -10.5884  13.5898  113.6660      g\n",
              "1      25.0243  18.4051  2.5453  0.4672  ... -15.2108  29.5560  141.1230      g\n",
              "2      24.8746  16.3143  2.6518  0.4660  ...  14.1454  48.4930  150.9500      g\n",
              "3      25.2958   9.4956  2.4401  0.5154  ...   7.2557  18.1924  181.3970      g\n",
              "4      13.3286  10.5157  2.1945  0.7923  ...  11.7594  76.3310  189.4840      g\n",
              "...        ...      ...     ...     ...  ...      ...      ...       ...    ...\n",
              "3995   24.7271  14.5628  2.6069  0.4277  ...   8.5488  79.5231  203.7670      h\n",
              "3996  111.6050  32.5335  2.6830  0.4274  ... -29.3282  31.6660  185.5320      h\n",
              "3997  110.1360  39.4236  3.3553  0.1774  ...  19.1856  47.3655  181.1990      h\n",
              "3998   33.5344  17.8185  2.5874  0.3295  ...   8.4603  85.7651  140.1944      h\n",
              "3999   67.0744  20.1901  3.0844  0.4584  ...  -4.2609  12.4831  290.1345      h\n",
              "\n",
              "[4000 rows x 11 columns]"
            ]
          },
          "metadata": {},
          "execution_count": 2
        }
      ]
    },
    {
      "cell_type": "code",
      "source": [
        "import numpy as np"
      ],
      "metadata": {
        "id": "LrGns0OQVp5f"
      },
      "execution_count": null,
      "outputs": []
    },
    {
      "cell_type": "code",
      "metadata": {
        "id": "ltDVEkR2YzWL"
      },
      "source": [
        "features=['Length','Width','Size','Conc','Conc1','Asym','M3Long','M3Trans','Alpha','Dist']\n",
        "gamma = gamma.rename(columns={'class': 'Class'})"
      ],
      "execution_count": null,
      "outputs": []
    },
    {
      "cell_type": "code",
      "metadata": {
        "id": "YdLSCk5OpB0F"
      },
      "source": [
        "gamma['Class'] = gamma['Class'].map({'g': 1, 'h': 0})"
      ],
      "execution_count": null,
      "outputs": []
    },
    {
      "cell_type": "code",
      "source": [
        "X=gamma[features]\n",
        "y=gamma.Class\n",
        "X,y"
      ],
      "metadata": {
        "colab": {
          "base_uri": "https://localhost:8080/"
        },
        "id": "C2_AAz_CaKjC",
        "outputId": "4d301d6c-eb08-4f24-bc83-0625c4f4cdd7"
      },
      "execution_count": null,
      "outputs": [
        {
          "output_type": "execute_result",
          "data": {
            "text/plain": [
              "(        Length    Width    Size    Conc  ...    M3Long  M3Trans    Alpha      Dist\n",
              " 0      38.7514  22.2191  3.1933  0.2666  ...   38.9052 -10.5884  13.5898  113.6660\n",
              " 1      25.0243  18.4051  2.5453  0.4672  ...  -21.7414 -15.2108  29.5560  141.1230\n",
              " 2      24.8746  16.3143  2.6518  0.4660  ...   20.5957  14.1454  48.4930  150.9500\n",
              " 3      25.2958   9.4956  2.4401  0.5154  ...   17.8278   7.2557  18.1924  181.3970\n",
              " 4      13.3286  10.5157  2.1945  0.7923  ...    4.3614  11.7594  76.3310  189.4840\n",
              " ...        ...      ...     ...     ...  ...       ...      ...      ...       ...\n",
              " 3995   24.7271  14.5628  2.6069  0.4277  ...  -14.9319   8.5488  79.5231  203.7670\n",
              " 3996  111.6050  32.5335  2.6830  0.4274  ... -134.0820 -29.3282  31.6660  185.5320\n",
              " 3997  110.1360  39.4236  3.3553  0.1774  ... -112.8890  19.1856  47.3655  181.1990\n",
              " 3998   33.5344  17.8185  2.5874  0.3295  ...   26.7120   8.4603  85.7651  140.1944\n",
              " 3999   67.0744  20.1901  3.0844  0.4584  ...  -61.3223  -4.2609  12.4831  290.1345\n",
              " \n",
              " [4000 rows x 10 columns], 0       1.0\n",
              " 1       1.0\n",
              " 2       1.0\n",
              " 3       1.0\n",
              " 4       1.0\n",
              "        ... \n",
              " 3995    0.0\n",
              " 3996    0.0\n",
              " 3997    0.0\n",
              " 3998    0.0\n",
              " 3999    0.0\n",
              " Name: Class, Length: 4000, dtype: float64)"
            ]
          },
          "metadata": {},
          "execution_count": 5
        }
      ]
    },
    {
      "cell_type": "code",
      "metadata": {
        "colab": {
          "base_uri": "https://localhost:8080/"
        },
        "id": "mfqEnWEVp983",
        "outputId": "ba13fc12-5d35-4bcb-877b-f966040d5d12"
      },
      "source": [
        "list(map(tuple, np.where(np.isnan(X))))"
      ],
      "execution_count": null,
      "outputs": [
        {
          "output_type": "execute_result",
          "data": {
            "text/plain": [
              "[(2014, 2014, 2014, 2014, 2014, 2014, 2014, 2014, 2014, 2014),\n",
              " (0, 1, 2, 3, 4, 5, 6, 7, 8, 9)]"
            ]
          },
          "metadata": {},
          "execution_count": 7
        }
      ]
    },
    {
      "cell_type": "code",
      "metadata": {
        "colab": {
          "base_uri": "https://localhost:8080/"
        },
        "id": "zz-U98-UqksD",
        "outputId": "b23cbe0d-7c4d-4fce-9f03-d383a91996af"
      },
      "source": [
        "print(gamma.loc[[2014]])"
      ],
      "execution_count": null,
      "outputs": [
        {
          "output_type": "stream",
          "name": "stdout",
          "text": [
            "      Length  Width  Size  Conc  Conc1  ...  M3Long  M3Trans  Alpha  Dist  Class\n",
            "2014     NaN    NaN   NaN   NaN    NaN  ...     NaN      NaN    NaN   NaN    NaN\n",
            "\n",
            "[1 rows x 11 columns]\n"
          ]
        }
      ]
    },
    {
      "cell_type": "code",
      "metadata": {
        "colab": {
          "base_uri": "https://localhost:8080/"
        },
        "id": "KYpf1CTIq1dm",
        "outputId": "bff965fc-8acc-4bac-a718-e04f152e5d26"
      },
      "source": [
        "gamma = gamma.drop([2014], axis=0)\n",
        "X=gamma[features]\n",
        "y=gamma.Class\n",
        "list(map(tuple, np.where(np.isnan(X))))"
      ],
      "execution_count": null,
      "outputs": [
        {
          "output_type": "execute_result",
          "data": {
            "text/plain": [
              "[(), ()]"
            ]
          },
          "metadata": {},
          "execution_count": 6
        }
      ]
    },
    {
      "cell_type": "code",
      "source": [
        "X1=X\n",
        "y1=y"
      ],
      "metadata": {
        "id": "FpS7jbKdWrME"
      },
      "execution_count": null,
      "outputs": []
    },
    {
      "cell_type": "markdown",
      "source": [
        "# Splitting data so training, validation and testing sets are the same."
      ],
      "metadata": {
        "id": "QgnyhXh6uJOD"
      }
    },
    {
      "cell_type": "code",
      "source": [
        "from sklearn.model_selection import train_test_split\n",
        "\n",
        "X_train,X_test,y_train,y_test=train_test_split(X,y,test_size=0.2)\n",
        "X_valid, X_test, y_valid, y_test = train_test_split(X_test,y_test, test_size=0.5)"
      ],
      "metadata": {
        "id": "GEfRHuXEuNS0"
      },
      "execution_count": null,
      "outputs": []
    },
    {
      "cell_type": "code",
      "metadata": {
        "id": "PWd56cUJYsgU"
      },
      "source": [
        "%matplotlib inline\n",
        "import pandas as pd\n",
        "import numpy as np\n",
        "import matplotlib.pyplot as plt\n",
        "import seaborn as sns\n",
        "plt.style.use('seaborn')\n",
        "\n",
        "from sklearn.preprocessing import LabelEncoder\n",
        "from sklearn.linear_model import LogisticRegression\n",
        "\n",
        "from sklearn import metrics\n",
        "\n",
        "from sklearn.model_selection import train_test_split"
      ],
      "execution_count": null,
      "outputs": []
    },
    {
      "cell_type": "markdown",
      "metadata": {
        "id": "a9Ar3sK3Ys-P"
      },
      "source": [
        "# Logistic Regression"
      ]
    },
    {
      "cell_type": "code",
      "metadata": {
        "colab": {
          "base_uri": "https://localhost:8080/",
          "height": 423
        },
        "id": "-7iyQvYXYykG",
        "outputId": "df98c09a-e009-449a-f582-6c290814ce8d"
      },
      "source": [
        "gamma"
      ],
      "execution_count": null,
      "outputs": [
        {
          "output_type": "execute_result",
          "data": {
            "text/html": [
              "\n",
              "  <div id=\"df-619ebebc-68d4-40aa-820e-398b69d07899\">\n",
              "    <div class=\"colab-df-container\">\n",
              "      <div>\n",
              "<style scoped>\n",
              "    .dataframe tbody tr th:only-of-type {\n",
              "        vertical-align: middle;\n",
              "    }\n",
              "\n",
              "    .dataframe tbody tr th {\n",
              "        vertical-align: top;\n",
              "    }\n",
              "\n",
              "    .dataframe thead th {\n",
              "        text-align: right;\n",
              "    }\n",
              "</style>\n",
              "<table border=\"1\" class=\"dataframe\">\n",
              "  <thead>\n",
              "    <tr style=\"text-align: right;\">\n",
              "      <th></th>\n",
              "      <th>Length</th>\n",
              "      <th>Width</th>\n",
              "      <th>Size</th>\n",
              "      <th>Conc</th>\n",
              "      <th>Conc1</th>\n",
              "      <th>Asym</th>\n",
              "      <th>M3Long</th>\n",
              "      <th>M3Trans</th>\n",
              "      <th>Alpha</th>\n",
              "      <th>Dist</th>\n",
              "      <th>Class</th>\n",
              "    </tr>\n",
              "  </thead>\n",
              "  <tbody>\n",
              "    <tr>\n",
              "      <th>0</th>\n",
              "      <td>38.7514</td>\n",
              "      <td>22.2191</td>\n",
              "      <td>3.1933</td>\n",
              "      <td>0.2666</td>\n",
              "      <td>0.1612</td>\n",
              "      <td>8.7684</td>\n",
              "      <td>38.9052</td>\n",
              "      <td>-10.5884</td>\n",
              "      <td>13.5898</td>\n",
              "      <td>113.6660</td>\n",
              "      <td>1.0</td>\n",
              "    </tr>\n",
              "    <tr>\n",
              "      <th>1</th>\n",
              "      <td>25.0243</td>\n",
              "      <td>18.4051</td>\n",
              "      <td>2.5453</td>\n",
              "      <td>0.4672</td>\n",
              "      <td>0.2949</td>\n",
              "      <td>2.8213</td>\n",
              "      <td>-21.7414</td>\n",
              "      <td>-15.2108</td>\n",
              "      <td>29.5560</td>\n",
              "      <td>141.1230</td>\n",
              "      <td>1.0</td>\n",
              "    </tr>\n",
              "    <tr>\n",
              "      <th>2</th>\n",
              "      <td>24.8746</td>\n",
              "      <td>16.3143</td>\n",
              "      <td>2.6518</td>\n",
              "      <td>0.4660</td>\n",
              "      <td>0.2375</td>\n",
              "      <td>7.8902</td>\n",
              "      <td>20.5957</td>\n",
              "      <td>14.1454</td>\n",
              "      <td>48.4930</td>\n",
              "      <td>150.9500</td>\n",
              "      <td>1.0</td>\n",
              "    </tr>\n",
              "    <tr>\n",
              "      <th>3</th>\n",
              "      <td>25.2958</td>\n",
              "      <td>9.4956</td>\n",
              "      <td>2.4401</td>\n",
              "      <td>0.5154</td>\n",
              "      <td>0.2813</td>\n",
              "      <td>5.6749</td>\n",
              "      <td>17.8278</td>\n",
              "      <td>7.2557</td>\n",
              "      <td>18.1924</td>\n",
              "      <td>181.3970</td>\n",
              "      <td>1.0</td>\n",
              "    </tr>\n",
              "    <tr>\n",
              "      <th>4</th>\n",
              "      <td>13.3286</td>\n",
              "      <td>10.5157</td>\n",
              "      <td>2.1945</td>\n",
              "      <td>0.7923</td>\n",
              "      <td>0.4313</td>\n",
              "      <td>14.3543</td>\n",
              "      <td>4.3614</td>\n",
              "      <td>11.7594</td>\n",
              "      <td>76.3310</td>\n",
              "      <td>189.4840</td>\n",
              "      <td>1.0</td>\n",
              "    </tr>\n",
              "    <tr>\n",
              "      <th>...</th>\n",
              "      <td>...</td>\n",
              "      <td>...</td>\n",
              "      <td>...</td>\n",
              "      <td>...</td>\n",
              "      <td>...</td>\n",
              "      <td>...</td>\n",
              "      <td>...</td>\n",
              "      <td>...</td>\n",
              "      <td>...</td>\n",
              "      <td>...</td>\n",
              "      <td>...</td>\n",
              "    </tr>\n",
              "    <tr>\n",
              "      <th>3995</th>\n",
              "      <td>24.7271</td>\n",
              "      <td>14.5628</td>\n",
              "      <td>2.6069</td>\n",
              "      <td>0.4277</td>\n",
              "      <td>0.2460</td>\n",
              "      <td>-8.7600</td>\n",
              "      <td>-14.9319</td>\n",
              "      <td>8.5488</td>\n",
              "      <td>79.5231</td>\n",
              "      <td>203.7670</td>\n",
              "      <td>0.0</td>\n",
              "    </tr>\n",
              "    <tr>\n",
              "      <th>3996</th>\n",
              "      <td>111.6050</td>\n",
              "      <td>32.5335</td>\n",
              "      <td>2.6830</td>\n",
              "      <td>0.4274</td>\n",
              "      <td>0.2313</td>\n",
              "      <td>-54.2801</td>\n",
              "      <td>-134.0820</td>\n",
              "      <td>-29.3282</td>\n",
              "      <td>31.6660</td>\n",
              "      <td>185.5320</td>\n",
              "      <td>0.0</td>\n",
              "    </tr>\n",
              "    <tr>\n",
              "      <th>3997</th>\n",
              "      <td>110.1360</td>\n",
              "      <td>39.4236</td>\n",
              "      <td>3.3553</td>\n",
              "      <td>0.1774</td>\n",
              "      <td>0.0920</td>\n",
              "      <td>-65.5715</td>\n",
              "      <td>-112.8890</td>\n",
              "      <td>19.1856</td>\n",
              "      <td>47.3655</td>\n",
              "      <td>181.1990</td>\n",
              "      <td>0.0</td>\n",
              "    </tr>\n",
              "    <tr>\n",
              "      <th>3998</th>\n",
              "      <td>33.5344</td>\n",
              "      <td>17.8185</td>\n",
              "      <td>2.5874</td>\n",
              "      <td>0.3295</td>\n",
              "      <td>0.1938</td>\n",
              "      <td>-8.3554</td>\n",
              "      <td>26.7120</td>\n",
              "      <td>8.4603</td>\n",
              "      <td>85.7651</td>\n",
              "      <td>140.1944</td>\n",
              "      <td>0.0</td>\n",
              "    </tr>\n",
              "    <tr>\n",
              "      <th>3999</th>\n",
              "      <td>67.0744</td>\n",
              "      <td>20.1901</td>\n",
              "      <td>3.0844</td>\n",
              "      <td>0.4584</td>\n",
              "      <td>0.3572</td>\n",
              "      <td>-33.1382</td>\n",
              "      <td>-61.3223</td>\n",
              "      <td>-4.2609</td>\n",
              "      <td>12.4831</td>\n",
              "      <td>290.1345</td>\n",
              "      <td>0.0</td>\n",
              "    </tr>\n",
              "  </tbody>\n",
              "</table>\n",
              "<p>3999 rows × 11 columns</p>\n",
              "</div>\n",
              "      <button class=\"colab-df-convert\" onclick=\"convertToInteractive('df-619ebebc-68d4-40aa-820e-398b69d07899')\"\n",
              "              title=\"Convert this dataframe to an interactive table.\"\n",
              "              style=\"display:none;\">\n",
              "        \n",
              "  <svg xmlns=\"http://www.w3.org/2000/svg\" height=\"24px\"viewBox=\"0 0 24 24\"\n",
              "       width=\"24px\">\n",
              "    <path d=\"M0 0h24v24H0V0z\" fill=\"none\"/>\n",
              "    <path d=\"M18.56 5.44l.94 2.06.94-2.06 2.06-.94-2.06-.94-.94-2.06-.94 2.06-2.06.94zm-11 1L8.5 8.5l.94-2.06 2.06-.94-2.06-.94L8.5 2.5l-.94 2.06-2.06.94zm10 10l.94 2.06.94-2.06 2.06-.94-2.06-.94-.94-2.06-.94 2.06-2.06.94z\"/><path d=\"M17.41 7.96l-1.37-1.37c-.4-.4-.92-.59-1.43-.59-.52 0-1.04.2-1.43.59L10.3 9.45l-7.72 7.72c-.78.78-.78 2.05 0 2.83L4 21.41c.39.39.9.59 1.41.59.51 0 1.02-.2 1.41-.59l7.78-7.78 2.81-2.81c.8-.78.8-2.07 0-2.86zM5.41 20L4 18.59l7.72-7.72 1.47 1.35L5.41 20z\"/>\n",
              "  </svg>\n",
              "      </button>\n",
              "      \n",
              "  <style>\n",
              "    .colab-df-container {\n",
              "      display:flex;\n",
              "      flex-wrap:wrap;\n",
              "      gap: 12px;\n",
              "    }\n",
              "\n",
              "    .colab-df-convert {\n",
              "      background-color: #E8F0FE;\n",
              "      border: none;\n",
              "      border-radius: 50%;\n",
              "      cursor: pointer;\n",
              "      display: none;\n",
              "      fill: #1967D2;\n",
              "      height: 32px;\n",
              "      padding: 0 0 0 0;\n",
              "      width: 32px;\n",
              "    }\n",
              "\n",
              "    .colab-df-convert:hover {\n",
              "      background-color: #E2EBFA;\n",
              "      box-shadow: 0px 1px 2px rgba(60, 64, 67, 0.3), 0px 1px 3px 1px rgba(60, 64, 67, 0.15);\n",
              "      fill: #174EA6;\n",
              "    }\n",
              "\n",
              "    [theme=dark] .colab-df-convert {\n",
              "      background-color: #3B4455;\n",
              "      fill: #D2E3FC;\n",
              "    }\n",
              "\n",
              "    [theme=dark] .colab-df-convert:hover {\n",
              "      background-color: #434B5C;\n",
              "      box-shadow: 0px 1px 3px 1px rgba(0, 0, 0, 0.15);\n",
              "      filter: drop-shadow(0px 1px 2px rgba(0, 0, 0, 0.3));\n",
              "      fill: #FFFFFF;\n",
              "    }\n",
              "  </style>\n",
              "\n",
              "      <script>\n",
              "        const buttonEl =\n",
              "          document.querySelector('#df-619ebebc-68d4-40aa-820e-398b69d07899 button.colab-df-convert');\n",
              "        buttonEl.style.display =\n",
              "          google.colab.kernel.accessAllowed ? 'block' : 'none';\n",
              "\n",
              "        async function convertToInteractive(key) {\n",
              "          const element = document.querySelector('#df-619ebebc-68d4-40aa-820e-398b69d07899');\n",
              "          const dataTable =\n",
              "            await google.colab.kernel.invokeFunction('convertToInteractive',\n",
              "                                                     [key], {});\n",
              "          if (!dataTable) return;\n",
              "\n",
              "          const docLinkHtml = 'Like what you see? Visit the ' +\n",
              "            '<a target=\"_blank\" href=https://colab.research.google.com/notebooks/data_table.ipynb>data table notebook</a>'\n",
              "            + ' to learn more about interactive tables.';\n",
              "          element.innerHTML = '';\n",
              "          dataTable['output_type'] = 'display_data';\n",
              "          await google.colab.output.renderOutput(dataTable, element);\n",
              "          const docLink = document.createElement('div');\n",
              "          docLink.innerHTML = docLinkHtml;\n",
              "          element.appendChild(docLink);\n",
              "        }\n",
              "      </script>\n",
              "    </div>\n",
              "  </div>\n",
              "  "
            ],
            "text/plain": [
              "        Length    Width    Size    Conc  ...  M3Trans    Alpha      Dist  Class\n",
              "0      38.7514  22.2191  3.1933  0.2666  ... -10.5884  13.5898  113.6660    1.0\n",
              "1      25.0243  18.4051  2.5453  0.4672  ... -15.2108  29.5560  141.1230    1.0\n",
              "2      24.8746  16.3143  2.6518  0.4660  ...  14.1454  48.4930  150.9500    1.0\n",
              "3      25.2958   9.4956  2.4401  0.5154  ...   7.2557  18.1924  181.3970    1.0\n",
              "4      13.3286  10.5157  2.1945  0.7923  ...  11.7594  76.3310  189.4840    1.0\n",
              "...        ...      ...     ...     ...  ...      ...      ...       ...    ...\n",
              "3995   24.7271  14.5628  2.6069  0.4277  ...   8.5488  79.5231  203.7670    0.0\n",
              "3996  111.6050  32.5335  2.6830  0.4274  ... -29.3282  31.6660  185.5320    0.0\n",
              "3997  110.1360  39.4236  3.3553  0.1774  ...  19.1856  47.3655  181.1990    0.0\n",
              "3998   33.5344  17.8185  2.5874  0.3295  ...   8.4603  85.7651  140.1944    0.0\n",
              "3999   67.0744  20.1901  3.0844  0.4584  ...  -4.2609  12.4831  290.1345    0.0\n",
              "\n",
              "[3999 rows x 11 columns]"
            ]
          },
          "metadata": {},
          "execution_count": 13
        }
      ]
    },
    {
      "cell_type": "code",
      "metadata": {
        "colab": {
          "base_uri": "https://localhost:8080/"
        },
        "id": "qaup-qs3h0HD",
        "outputId": "b14207a8-4041-466c-8bd9-29c5df336528"
      },
      "source": [
        "X=gamma[features]\n",
        "y=gamma.Class\n",
        "X,y"
      ],
      "execution_count": null,
      "outputs": [
        {
          "output_type": "execute_result",
          "data": {
            "text/plain": [
              "(        Length    Width    Size    Conc  ...    M3Long  M3Trans    Alpha      Dist\n",
              " 0      38.7514  22.2191  3.1933  0.2666  ...   38.9052 -10.5884  13.5898  113.6660\n",
              " 1      25.0243  18.4051  2.5453  0.4672  ...  -21.7414 -15.2108  29.5560  141.1230\n",
              " 2      24.8746  16.3143  2.6518  0.4660  ...   20.5957  14.1454  48.4930  150.9500\n",
              " 3      25.2958   9.4956  2.4401  0.5154  ...   17.8278   7.2557  18.1924  181.3970\n",
              " 4      13.3286  10.5157  2.1945  0.7923  ...    4.3614  11.7594  76.3310  189.4840\n",
              " ...        ...      ...     ...     ...  ...       ...      ...      ...       ...\n",
              " 3995   24.7271  14.5628  2.6069  0.4277  ...  -14.9319   8.5488  79.5231  203.7670\n",
              " 3996  111.6050  32.5335  2.6830  0.4274  ... -134.0820 -29.3282  31.6660  185.5320\n",
              " 3997  110.1360  39.4236  3.3553  0.1774  ... -112.8890  19.1856  47.3655  181.1990\n",
              " 3998   33.5344  17.8185  2.5874  0.3295  ...   26.7120   8.4603  85.7651  140.1944\n",
              " 3999   67.0744  20.1901  3.0844  0.4584  ...  -61.3223  -4.2609  12.4831  290.1345\n",
              " \n",
              " [3999 rows x 10 columns], 0       1.0\n",
              " 1       1.0\n",
              " 2       1.0\n",
              " 3       1.0\n",
              " 4       1.0\n",
              "        ... \n",
              " 3995    0.0\n",
              " 3996    0.0\n",
              " 3997    0.0\n",
              " 3998    0.0\n",
              " 3999    0.0\n",
              " Name: Class, Length: 3999, dtype: float64)"
            ]
          },
          "metadata": {},
          "execution_count": 14
        }
      ]
    },
    {
      "cell_type": "code",
      "metadata": {
        "colab": {
          "base_uri": "https://localhost:8080/"
        },
        "id": "PTVv9EZdaQOa",
        "outputId": "4fe72d89-46b5-4704-a56c-1e912b0f037e"
      },
      "source": [
        "X,y"
      ],
      "execution_count": null,
      "outputs": [
        {
          "output_type": "execute_result",
          "data": {
            "text/plain": [
              "(        Length    Width    Size    Conc  ...    M3Long  M3Trans    Alpha      Dist\n",
              " 0      38.7514  22.2191  3.1933  0.2666  ...   38.9052 -10.5884  13.5898  113.6660\n",
              " 1      25.0243  18.4051  2.5453  0.4672  ...  -21.7414 -15.2108  29.5560  141.1230\n",
              " 2      24.8746  16.3143  2.6518  0.4660  ...   20.5957  14.1454  48.4930  150.9500\n",
              " 3      25.2958   9.4956  2.4401  0.5154  ...   17.8278   7.2557  18.1924  181.3970\n",
              " 4      13.3286  10.5157  2.1945  0.7923  ...    4.3614  11.7594  76.3310  189.4840\n",
              " ...        ...      ...     ...     ...  ...       ...      ...      ...       ...\n",
              " 3995   24.7271  14.5628  2.6069  0.4277  ...  -14.9319   8.5488  79.5231  203.7670\n",
              " 3996  111.6050  32.5335  2.6830  0.4274  ... -134.0820 -29.3282  31.6660  185.5320\n",
              " 3997  110.1360  39.4236  3.3553  0.1774  ... -112.8890  19.1856  47.3655  181.1990\n",
              " 3998   33.5344  17.8185  2.5874  0.3295  ...   26.7120   8.4603  85.7651  140.1944\n",
              " 3999   67.0744  20.1901  3.0844  0.4584  ...  -61.3223  -4.2609  12.4831  290.1345\n",
              " \n",
              " [3999 rows x 10 columns], 0       1.0\n",
              " 1       1.0\n",
              " 2       1.0\n",
              " 3       1.0\n",
              " 4       1.0\n",
              "        ... \n",
              " 3995    0.0\n",
              " 3996    0.0\n",
              " 3997    0.0\n",
              " 3998    0.0\n",
              " 3999    0.0\n",
              " Name: Class, Length: 3999, dtype: float64)"
            ]
          },
          "metadata": {},
          "execution_count": 15
        }
      ]
    },
    {
      "cell_type": "code",
      "metadata": {
        "id": "4GHGBh5TshW7"
      },
      "source": [
        "from sklearn.preprocessing import StandardScaler\n",
        "scaler=StandardScaler()\n",
        "scaler.fit(X)\n",
        "X_scaled=scaler.transform(X)"
      ],
      "execution_count": null,
      "outputs": []
    },
    {
      "cell_type": "markdown",
      "source": [
        "Logistic regression on whole dataset"
      ],
      "metadata": {
        "id": "IFk3KswZchSl"
      }
    },
    {
      "cell_type": "code",
      "metadata": {
        "id": "LRBWpTwsZowI"
      },
      "source": [
        "enc=LabelEncoder()\n",
        "label_encoder=enc.fit(y)\n",
        "y=label_encoder.transform(y)"
      ],
      "execution_count": null,
      "outputs": []
    },
    {
      "cell_type": "code",
      "metadata": {
        "colab": {
          "base_uri": "https://localhost:8080/"
        },
        "id": "7tbUVNxqZuo1",
        "outputId": "98b3e09c-8d29-4f96-ecd3-848dd9d9b7ba"
      },
      "source": [
        "logreg=LogisticRegression()\n",
        "logreg.fit(X_scaled,y)\n",
        "logreg.coef_,logreg.intercept_"
      ],
      "execution_count": null,
      "outputs": [
        {
          "output_type": "execute_result",
          "data": {
            "text/plain": [
              "(array([[-1.55847117, -0.02482413, -0.26692472,  0.14234438, -0.76805406,\n",
              "          0.00518212,  0.49956432,  0.07381578, -1.29646512, -0.04532099]]),\n",
              " array([-0.31496294]))"
            ]
          },
          "metadata": {},
          "execution_count": 18
        }
      ]
    },
    {
      "cell_type": "code",
      "metadata": {
        "colab": {
          "base_uri": "https://localhost:8080/"
        },
        "id": "PFRbObnarXRf",
        "outputId": "968fa1d3-dfb0-4780-8c15-56692d8e0371"
      },
      "source": [
        "X_scaled,y"
      ],
      "execution_count": null,
      "outputs": [
        {
          "output_type": "execute_result",
          "data": {
            "text/plain": [
              "(array([[-0.39262647, -0.06587467,  0.76324602, ..., -0.46963537,\n",
              "         -0.66567182, -1.06764643],\n",
              "        [-0.69446458, -0.25284076, -0.62814901, ..., -0.67196884,\n",
              "         -0.06622183, -0.70675581],\n",
              "        [-0.69775625, -0.35533386, -0.39947066, ...,  0.61302206,\n",
              "          0.64476667, -0.57759122],\n",
              "        ...,\n",
              "        [ 1.17701261,  0.77750707,  1.11109478, ...,  0.83364364,\n",
              "          0.60243475, -0.18000298],\n",
              "        [-0.50734038, -0.28159647, -0.53775128, ...,  0.36417167,\n",
              "          2.04414537, -0.71896119],\n",
              "        [ 0.23015334, -0.16533828,  0.52941435, ..., -0.1926656 ,\n",
              "         -0.70722281,  1.25182862]]), array([1, 1, 1, ..., 0, 0, 0]))"
            ]
          },
          "metadata": {},
          "execution_count": 19
        }
      ]
    },
    {
      "cell_type": "code",
      "source": [
        "# intercept\n",
        "logreg.intercept_"
      ],
      "metadata": {
        "colab": {
          "base_uri": "https://localhost:8080/"
        },
        "id": "1gUqvyMYiFfl",
        "outputId": "9ddcde1c-b417-4bf3-92a2-e10ae1eb0f9b"
      },
      "execution_count": null,
      "outputs": [
        {
          "output_type": "execute_result",
          "data": {
            "text/plain": [
              "array([-0.31496294])"
            ]
          },
          "metadata": {},
          "execution_count": 20
        }
      ]
    },
    {
      "cell_type": "code",
      "source": [
        "# predicted coefficients\n",
        "logreg.coef_"
      ],
      "metadata": {
        "colab": {
          "base_uri": "https://localhost:8080/"
        },
        "id": "TMr6SQwKiWuU",
        "outputId": "ebe4e886-6d65-4144-f8f9-ec0232ea753c"
      },
      "execution_count": null,
      "outputs": [
        {
          "output_type": "execute_result",
          "data": {
            "text/plain": [
              "array([[-1.55847117, -0.02482413, -0.26692472,  0.14234438, -0.76805406,\n",
              "         0.00518212,  0.49956432,  0.07381578, -1.29646512, -0.04532099]])"
            ]
          },
          "metadata": {},
          "execution_count": 21
        }
      ]
    },
    {
      "cell_type": "code",
      "metadata": {
        "colab": {
          "base_uri": "https://localhost:8080/"
        },
        "id": "dAnlRpZnZwPJ",
        "outputId": "88a0fcb6-29dc-45ba-eea6-d1d7954a08ab"
      },
      "source": [
        "# predict classes\n",
        "y_pred=logreg.predict(X_scaled)\n",
        "y_pred"
      ],
      "execution_count": null,
      "outputs": [
        {
          "output_type": "execute_result",
          "data": {
            "text/plain": [
              "array([1, 1, 1, ..., 0, 0, 0])"
            ]
          },
          "metadata": {},
          "execution_count": 22
        }
      ]
    },
    {
      "cell_type": "code",
      "metadata": {
        "colab": {
          "base_uri": "https://localhost:8080/"
        },
        "id": "wyseMvI_Zxwz",
        "outputId": "1fa9e8e0-a307-44b8-b716-49155a983676"
      },
      "source": [
        "# probabilities predicted\n",
        "logreg.predict_proba(X_scaled)"
      ],
      "execution_count": null,
      "outputs": [
        {
          "output_type": "execute_result",
          "data": {
            "text/plain": [
              "array([[0.1782257 , 0.8217743 ],\n",
              "       [0.43974851, 0.56025149],\n",
              "       [0.46517238, 0.53482762],\n",
              "       ...,\n",
              "       [0.97338713, 0.02661287],\n",
              "       [0.84517432, 0.15482568],\n",
              "       [0.82273376, 0.17726624]])"
            ]
          },
          "metadata": {},
          "execution_count": 23
        }
      ]
    },
    {
      "cell_type": "code",
      "metadata": {
        "colab": {
          "base_uri": "https://localhost:8080/"
        },
        "id": "cvW5fe9JZ0HA",
        "outputId": "a1f5911b-f468-4ba1-8e30-3cc895db5f10"
      },
      "source": [
        "# metrics\n",
        "logreg_score=logreg.score(X_scaled,y)\n",
        "logreg_score"
      ],
      "execution_count": null,
      "outputs": [
        {
          "output_type": "execute_result",
          "data": {
            "text/plain": [
              "0.7769442360590147"
            ]
          },
          "metadata": {},
          "execution_count": 24
        }
      ]
    },
    {
      "cell_type": "code",
      "metadata": {
        "colab": {
          "base_uri": "https://localhost:8080/"
        },
        "id": "ENcOlMcNZ1W_",
        "outputId": "ffcd5d04-aed1-45e5-97c1-8349bb3e79ca"
      },
      "source": [
        "metrics.accuracy_score(y,y_pred)"
      ],
      "execution_count": null,
      "outputs": [
        {
          "output_type": "execute_result",
          "data": {
            "text/plain": [
              "0.7769442360590147"
            ]
          },
          "metadata": {},
          "execution_count": 25
        }
      ]
    },
    {
      "cell_type": "code",
      "metadata": {
        "colab": {
          "base_uri": "https://localhost:8080/"
        },
        "id": "oQTekILYZ2t2",
        "outputId": "abb4d542-0df8-44b4-ecd1-d352d803a20b"
      },
      "source": [
        "cm=metrics.confusion_matrix(y,y_pred)\n",
        "cm"
      ],
      "execution_count": null,
      "outputs": [
        {
          "output_type": "execute_result",
          "data": {
            "text/plain": [
              "array([[1464,  536],\n",
              "       [ 356, 1643]])"
            ]
          },
          "metadata": {},
          "execution_count": 26
        }
      ]
    },
    {
      "cell_type": "markdown",
      "source": [
        "Logistic regression on training and testing set."
      ],
      "metadata": {
        "id": "pJX-JcFycj0J"
      }
    },
    {
      "cell_type": "code",
      "metadata": {
        "id": "xbNDX63AZ5pS"
      },
      "source": [
        "X_train,X_test,y_train,y_test=train_test_split(X_scaled,y,test_size=0.2)"
      ],
      "execution_count": null,
      "outputs": []
    },
    {
      "cell_type": "code",
      "metadata": {
        "id": "QB6CzvebZ682"
      },
      "source": [
        "logreg=LogisticRegression()\n",
        "logreg.fit(X_train,y_train)\n",
        "y_pred=logreg.predict(X_test)"
      ],
      "execution_count": null,
      "outputs": []
    },
    {
      "cell_type": "code",
      "metadata": {
        "id": "Vz93ONSVZ8RL",
        "colab": {
          "base_uri": "https://localhost:8080/",
          "height": 376
        },
        "outputId": "e60d52c8-7703-41b7-89f1-16d6251dadb8"
      },
      "source": [
        "score=logreg.score(X_test,y_test)\n",
        "cm=metrics.confusion_matrix(y_test,y_pred)\n",
        "plt.figure(figsize=(6,6))\n",
        "sns.heatmap(cm,annot=True,fmt=\"d\",linewidths=.5,square=True,cmap='Blues_r')\n",
        "plt.ylabel('Actual label')\n",
        "plt.xlabel('Predicted label')\n",
        "all_sample_title='Accuracy Score: {0}'.format(score)\n",
        "plt.title(all_sample_title,size=15)"
      ],
      "execution_count": null,
      "outputs": [
        {
          "output_type": "execute_result",
          "data": {
            "text/plain": [
              "Text(0.5, 1.0, 'Accuracy Score: 0.75125')"
            ]
          },
          "metadata": {},
          "execution_count": 29
        },
        {
          "output_type": "display_data",
          "data": {
            "image/png": "[encoded data removed]",
            "text/plain": [
              "<Figure size 432x432 with 2 Axes>"
            ]
          },
          "metadata": {}
        }
      ]
    },
    {
      "cell_type": "code",
      "source": [
        "score"
      ],
      "metadata": {
        "id": "SbhEf0SirYPk",
        "colab": {
          "base_uri": "https://localhost:8080/"
        },
        "outputId": "7b788813-e116-49cf-a343-9af752bd5696"
      },
      "execution_count": null,
      "outputs": [
        {
          "output_type": "execute_result",
          "data": {
            "text/plain": [
              "0.75125"
            ]
          },
          "metadata": {},
          "execution_count": 30
        }
      ]
    },
    {
      "cell_type": "code",
      "source": [
        "logreg.coef_"
      ],
      "metadata": {
        "id": "AdoKuyzyrs17",
        "colab": {
          "base_uri": "https://localhost:8080/"
        },
        "outputId": "416edeaf-4a75-4d1b-df31-22f75ac98864"
      },
      "execution_count": null,
      "outputs": [
        {
          "output_type": "execute_result",
          "data": {
            "text/plain": [
              "array([[-1.55140386,  0.0149229 , -0.23901333,  0.35525601, -0.98900434,\n",
              "        -0.02027009,  0.50463828,  0.0324639 , -1.31991439, -0.08724329]])"
            ]
          },
          "metadata": {},
          "execution_count": 31
        }
      ]
    },
    {
      "cell_type": "code",
      "source": [
        "accuracy=(cm[0,0]+cm[1,1])/(cm[0,0]+cm[0,1]+cm[1,0]+cm[1,1]) \n",
        "accuracy"
      ],
      "metadata": {
        "id": "HqbUJ2EDcvYO",
        "colab": {
          "base_uri": "https://localhost:8080/"
        },
        "outputId": "254d38f2-85b6-428a-a2d9-a9d83862b2a0"
      },
      "execution_count": null,
      "outputs": [
        {
          "output_type": "execute_result",
          "data": {
            "text/plain": [
              "0.75125"
            ]
          },
          "metadata": {},
          "execution_count": 32
        }
      ]
    },
    {
      "cell_type": "code",
      "metadata": {
        "id": "HjKsjGugZ9ln",
        "colab": {
          "base_uri": "https://localhost:8080/"
        },
        "outputId": "612cb97e-1efb-45b2-b1fb-0db0fd78c375"
      },
      "source": [
        "sensitivity=cm[1,1]/(cm[1,0]+cm[1,1]) \n",
        "sensitivity"
      ],
      "execution_count": null,
      "outputs": [
        {
          "output_type": "execute_result",
          "data": {
            "text/plain": [
              "0.7907542579075426"
            ]
          },
          "metadata": {},
          "execution_count": 33
        }
      ]
    },
    {
      "cell_type": "code",
      "metadata": {
        "id": "HcA-MyCSZ-3X",
        "colab": {
          "base_uri": "https://localhost:8080/"
        },
        "outputId": "b1c819b4-08be-4c76-bf28-7a2189c8acd7"
      },
      "source": [
        "specificity=cm[0,0]/(cm[0,0]+cm[0,1]) \n",
        "specificity"
      ],
      "execution_count": null,
      "outputs": [
        {
          "output_type": "execute_result",
          "data": {
            "text/plain": [
              "0.7095115681233933"
            ]
          },
          "metadata": {},
          "execution_count": 34
        }
      ]
    },
    {
      "cell_type": "code",
      "source": [
        "precision=cm[1,1]/(cm[0,1]+cm[1,1]) \n",
        "precision"
      ],
      "metadata": {
        "id": "md-TObd0dL-E",
        "colab": {
          "base_uri": "https://localhost:8080/"
        },
        "outputId": "af8050ea-57b8-4bd5-b547-daa57cadc819"
      },
      "execution_count": null,
      "outputs": [
        {
          "output_type": "execute_result",
          "data": {
            "text/plain": [
              "0.7420091324200914"
            ]
          },
          "metadata": {},
          "execution_count": 35
        }
      ]
    },
    {
      "cell_type": "code",
      "metadata": {
        "id": "gG4rCgehaAMX",
        "colab": {
          "base_uri": "https://localhost:8080/"
        },
        "outputId": "baa56d2a-c904-4bdc-9817-a65f6fa45561"
      },
      "source": [
        "metrics.recall_score(y_test,y_pred)"
      ],
      "execution_count": null,
      "outputs": [
        {
          "output_type": "execute_result",
          "data": {
            "text/plain": [
              "0.7907542579075426"
            ]
          },
          "metadata": {},
          "execution_count": 36
        }
      ]
    },
    {
      "cell_type": "code",
      "metadata": {
        "id": "61WE0pAdaBd1",
        "colab": {
          "base_uri": "https://localhost:8080/"
        },
        "outputId": "8188a669-3f91-4ca5-fab2-d214939b878c"
      },
      "source": [
        "metrics.precision_score(y_test,y_pred)"
      ],
      "execution_count": null,
      "outputs": [
        {
          "output_type": "execute_result",
          "data": {
            "text/plain": [
              "0.7420091324200914"
            ]
          },
          "metadata": {},
          "execution_count": 37
        }
      ]
    },
    {
      "cell_type": "code",
      "metadata": {
        "id": "Y2hFJPwKaCrb",
        "colab": {
          "base_uri": "https://localhost:8080/",
          "height": 363
        },
        "outputId": "6a9e1816-381f-4141-f6a4-93b24c5ef35a"
      },
      "source": [
        "y_pred_proba=logreg.predict_proba(X_test)[::,1]\n",
        "fpr,tpr,_=metrics.roc_curve(y_test,y_pred_proba)\n",
        "auc=metrics.roc_auc_score(y_test,y_pred_proba)\n",
        "plt.plot(fpr,tpr,label=\"auc=\"+str(auc))\n",
        "plt.legend(loc=4)"
      ],
      "execution_count": null,
      "outputs": [
        {
          "output_type": "execute_result",
          "data": {
            "text/plain": [
              "<matplotlib.legend.Legend at 0x7fa09574d890>"
            ]
          },
          "metadata": {},
          "execution_count": 38
        },
        {
          "output_type": "display_data",
          "data": {
            "image/png": "[encoded data removed]",
            "text/plain": [
              "<Figure size 576x396 with 1 Axes>"
            ]
          },
          "metadata": {}
        }
      ]
    },
    {
      "cell_type": "markdown",
      "metadata": {
        "id": "sWhjaHHpdIqU"
      },
      "source": [
        "# Decision Trees and Variants"
      ]
    },
    {
      "cell_type": "code",
      "metadata": {
        "id": "D95gZ4zBlOhC"
      },
      "source": [
        "features=['Length','Width','Size','Conc','Conc1','Asym','M3Long','M3Trans','Alpha','Dist']\n",
        "target=['Class']\n",
        "X=gamma[features]\n",
        "y=gamma[target]"
      ],
      "execution_count": null,
      "outputs": []
    },
    {
      "cell_type": "code",
      "source": [
        "from sklearn.tree import DecisionTreeClassifier\n",
        "y1=y<0.5\n",
        "\n",
        "treeclf=DecisionTreeClassifier()\n",
        "treeclf.fit(X,y1)\n",
        "treeclf.fit(X_train,y_train)\n",
        "yhat_valid=treeclf.predict(X_valid)\n",
        "MSE_valid=metrics.mean_squared_error(yhat_valid,y_valid)\n",
        "valid_score=treeclf.score(X_valid,y_valid)\n",
        "\n",
        "treeclf.fit(X_train,y_train)\n",
        "yhat_test=treeclf.predict(X_test)\n",
        "MSE_test=metrics.mean_squared_error(yhat_test,y_test)\n",
        "test_score=treeclf.score(X_test,y_test)\n",
        "print(\"Validation accuracy=\",valid_score,\", Test accuracy=\",test_score)"
      ],
      "metadata": {
        "colab": {
          "base_uri": "https://localhost:8080/"
        },
        "id": "nIuwT-YF8DlP",
        "outputId": "560adfc6-cf61-4f62-c934-e380290148cd"
      },
      "execution_count": null,
      "outputs": [
        {
          "output_type": "stream",
          "name": "stdout",
          "text": [
            "Validation accuracy= 0.79 , Test accuracy= 0.805\n"
          ]
        }
      ]
    },
    {
      "cell_type": "code",
      "source": [
        "# Classification tree\n",
        "for i in range(1,20):\n",
        "  treeclf=DecisionTreeClassifier(max_depth=i)\n",
        "  treeclf.fit(X,y1)\n",
        "  treeclf.fit(X_train,y_train)\n",
        "  yhat_valid=treeclf.predict(X_valid)\n",
        "  MSE_valid=metrics.mean_squared_error(yhat_valid,y_valid)\n",
        "  valid_score=treeclf.score(X_valid,y_valid)\n",
        "\n",
        "  treeclf.fit(X_train,y_train)\n",
        "  yhat_test=treeclf.predict(X_test)\n",
        "  MSE_test=metrics.mean_squared_error(yhat_test,y_test)\n",
        "  test_score=treeclf.score(X_test,y_test)\n",
        "  print(\"Max_depth=\",i,\", Validation accuracy=\",valid_score,\", Test accuracy=\",test_score)"
      ],
      "metadata": {
        "id": "mWHbvw1XxJFl",
        "colab": {
          "base_uri": "https://localhost:8080/"
        },
        "outputId": "9bc8bb17-f33e-4c16-e799-96749b626fa3"
      },
      "execution_count": null,
      "outputs": [
        {
          "output_type": "stream",
          "name": "stdout",
          "text": [
            "Max_depth= 1 , Validation accuracy= 0.78 , Test accuracy= 0.74\n",
            "Max_depth= 2 , Validation accuracy= 0.785 , Test accuracy= 0.7525\n",
            "Max_depth= 3 , Validation accuracy= 0.805 , Test accuracy= 0.8\n",
            "Max_depth= 4 , Validation accuracy= 0.8025 , Test accuracy= 0.8025\n",
            "Max_depth= 5 , Validation accuracy= 0.815 , Test accuracy= 0.8075\n",
            "Max_depth= 6 , Validation accuracy= 0.8325 , Test accuracy= 0.8275\n",
            "Max_depth= 7 , Validation accuracy= 0.8175 , Test accuracy= 0.83\n",
            "Max_depth= 8 , Validation accuracy= 0.84 , Test accuracy= 0.83\n",
            "Max_depth= 9 , Validation accuracy= 0.8325 , Test accuracy= 0.855\n",
            "Max_depth= 10 , Validation accuracy= 0.82 , Test accuracy= 0.835\n",
            "Max_depth= 11 , Validation accuracy= 0.79 , Test accuracy= 0.825\n",
            "Max_depth= 12 , Validation accuracy= 0.8075 , Test accuracy= 0.81\n",
            "Max_depth= 13 , Validation accuracy= 0.8025 , Test accuracy= 0.8225\n",
            "Max_depth= 14 , Validation accuracy= 0.79 , Test accuracy= 0.8175\n",
            "Max_depth= 15 , Validation accuracy= 0.7975 , Test accuracy= 0.8125\n",
            "Max_depth= 16 , Validation accuracy= 0.7725 , Test accuracy= 0.8175\n",
            "Max_depth= 17 , Validation accuracy= 0.785 , Test accuracy= 0.8225\n",
            "Max_depth= 18 , Validation accuracy= 0.78 , Test accuracy= 0.8075\n",
            "Max_depth= 19 , Validation accuracy= 0.785 , Test accuracy= 0.8025\n"
          ]
        }
      ]
    },
    {
      "cell_type": "markdown",
      "source": [
        "Looks like max_depth=9 gives best test accuracy."
      ],
      "metadata": {
        "id": "VuHhiZlx0i-w"
      }
    },
    {
      "cell_type": "code",
      "source": [
        "treeclf=DecisionTreeClassifier(max_depth=9)\n",
        "treeclf.fit(X,y1)\n",
        "treeclf.fit(X_train,y_train)\n",
        "yhat_valid=treeclf.predict(X_valid)\n",
        "MSE_valid=metrics.mean_squared_error(yhat_valid,y_valid)\n",
        "valid_score=treeclf.score(X_valid,y_valid)\n",
        "treeclf.fit(X_train,y_train)\n",
        "yhat_test=treeclf.predict(X_test)\n",
        "MSE_test=metrics.mean_squared_error(yhat_test,y_test)\n",
        "test_score=treeclf.score(X_test,y_test)"
      ],
      "metadata": {
        "id": "CVh_emCM-ETF"
      },
      "execution_count": null,
      "outputs": []
    },
    {
      "cell_type": "code",
      "source": [
        "treeclf.feature_importances_"
      ],
      "metadata": {
        "colab": {
          "base_uri": "https://localhost:8080/"
        },
        "id": "cw2Avo54-KU7",
        "outputId": "4777de03-f8ef-40a1-e8f8-b04478834657"
      },
      "execution_count": null,
      "outputs": [
        {
          "output_type": "execute_result",
          "data": {
            "text/plain": [
              "array([0.21622786, 0.08201364, 0.12757093, 0.03286775, 0.04925697,\n",
              "       0.03651415, 0.06404751, 0.01168076, 0.34060341, 0.03921701])"
            ]
          },
          "metadata": {},
          "execution_count": 13
        }
      ]
    },
    {
      "cell_type": "markdown",
      "source": [
        "Get highest coefficients for Length and Alpha again."
      ],
      "metadata": {
        "id": "t7B5jwP8-TfN"
      }
    },
    {
      "cell_type": "markdown",
      "source": [
        "# Random forest"
      ],
      "metadata": {
        "id": "hKGNDTKD212I"
      }
    },
    {
      "cell_type": "code",
      "source": [
        "from sklearn.ensemble import RandomForestClassifier\n",
        "y1_train = np.ravel(y_train)\n",
        "\n",
        "rfclf=RandomForestClassifier()\n",
        "rfclf.fit(X_train,y1_train)\n",
        "yhat_valid=rfclf.predict(X_valid)\n",
        "MSE_valid=metrics.mean_squared_error(yhat_valid,y_valid)\n",
        "valid_score=rfclf.score(X_valid,y_valid)\n",
        "rfclf.fit(X_train,y_train)\n",
        "yhat_test=rfclf.predict(X_test)\n",
        "MSE_test=metrics.mean_squared_error(yhat_test,y_test)\n",
        "test_score=rfclf.score(X_test,y_test)\n",
        "  \n",
        "print(\"Validation accuracy=\",valid_score,\", Test accuracy=\",test_score)"
      ],
      "metadata": {
        "colab": {
          "base_uri": "https://localhost:8080/"
        },
        "id": "K5gTwmcQE9i4",
        "outputId": "64818a3a-aa82-40e4-9987-67b6dc285080"
      },
      "execution_count": null,
      "outputs": [
        {
          "output_type": "stream",
          "name": "stdout",
          "text": [
            "Validation accuracy= 0.855 , Test accuracy= 0.885\n"
          ]
        }
      ]
    },
    {
      "cell_type": "code",
      "source": [
        "from sklearn.ensemble import RandomForestClassifier\n",
        "y1_train = np.ravel(y_train)\n",
        "\n",
        "# changing n_estimators\n",
        "for i in range(1,30):\n",
        "  rfclf=RandomForestClassifier(n_estimators=i)\n",
        "  rfclf.fit(X_train,y1_train)\n",
        "  yhat_valid=rfclf.predict(X_valid)\n",
        "  MSE_valid=metrics.mean_squared_error(yhat_valid,y_valid)\n",
        "  valid_score=rfclf.score(X_valid,y_valid)\n",
        "\n",
        "  rfclf.fit(X_train,y_train)\n",
        "  yhat_test=rfclf.predict(X_test)\n",
        "  MSE_test=metrics.mean_squared_error(yhat_test,y_test)\n",
        "  test_score=rfclf.score(X_test,y_test)\n",
        "  \n",
        "  print(\"n_estimators=\",i,\", Validation accuracy=\",valid_score,\", Test accuracy=\",test_score)"
      ],
      "metadata": {
        "colab": {
          "base_uri": "https://localhost:8080/"
        },
        "id": "RS3jSDfhpqYP",
        "outputId": "5ca11540-9187-4ef2-d425-f7bf0ce90ef0"
      },
      "execution_count": null,
      "outputs": [
        {
          "output_type": "stream",
          "name": "stdout",
          "text": [
            "n_estimators= 1 , Validation accuracy= 0.7725 , Test accuracy= 0.8025\n",
            "n_estimators= 2 , Validation accuracy= 0.7525 , Test accuracy= 0.76\n",
            "n_estimators= 3 , Validation accuracy= 0.815 , Test accuracy= 0.8275\n",
            "n_estimators= 4 , Validation accuracy= 0.785 , Test accuracy= 0.82\n",
            "n_estimators= 5 , Validation accuracy= 0.83 , Test accuracy= 0.8325\n",
            "n_estimators= 6 , Validation accuracy= 0.825 , Test accuracy= 0.835\n",
            "n_estimators= 7 , Validation accuracy= 0.8425 , Test accuracy= 0.815\n",
            "n_estimators= 8 , Validation accuracy= 0.8575 , Test accuracy= 0.855\n",
            "n_estimators= 9 , Validation accuracy= 0.855 , Test accuracy= 0.8575\n",
            "n_estimators= 10 , Validation accuracy= 0.8375 , Test accuracy= 0.8625\n",
            "n_estimators= 11 , Validation accuracy= 0.8475 , Test accuracy= 0.8575\n",
            "n_estimators= 12 , Validation accuracy= 0.8475 , Test accuracy= 0.86\n",
            "n_estimators= 13 , Validation accuracy= 0.86 , Test accuracy= 0.8525\n",
            "n_estimators= 14 , Validation accuracy= 0.8475 , Test accuracy= 0.845\n",
            "n_estimators= 15 , Validation accuracy= 0.86 , Test accuracy= 0.8675\n",
            "n_estimators= 16 , Validation accuracy= 0.8575 , Test accuracy= 0.85\n",
            "n_estimators= 17 , Validation accuracy= 0.8625 , Test accuracy= 0.85\n",
            "n_estimators= 18 , Validation accuracy= 0.8425 , Test accuracy= 0.855\n",
            "n_estimators= 19 , Validation accuracy= 0.8575 , Test accuracy= 0.855\n",
            "n_estimators= 20 , Validation accuracy= 0.8525 , Test accuracy= 0.865\n",
            "n_estimators= 21 , Validation accuracy= 0.8725 , Test accuracy= 0.8725\n",
            "n_estimators= 22 , Validation accuracy= 0.8675 , Test accuracy= 0.845\n",
            "n_estimators= 23 , Validation accuracy= 0.8675 , Test accuracy= 0.8625\n",
            "n_estimators= 24 , Validation accuracy= 0.86 , Test accuracy= 0.8525\n",
            "n_estimators= 25 , Validation accuracy= 0.8525 , Test accuracy= 0.8625\n",
            "n_estimators= 26 , Validation accuracy= 0.8625 , Test accuracy= 0.86\n",
            "n_estimators= 27 , Validation accuracy= 0.86 , Test accuracy= 0.8625\n",
            "n_estimators= 28 , Validation accuracy= 0.86 , Test accuracy= 0.8625\n",
            "n_estimators= 29 , Validation accuracy= 0.8575 , Test accuracy= 0.8525\n"
          ]
        }
      ]
    },
    {
      "cell_type": "code",
      "source": [
        "# changing max_depth\n",
        "for i in range(1,30):\n",
        "  rfclf=RandomForestClassifier(max_depth=i,n_estimators=21)\n",
        "  rfclf.fit(X_train,y1_train)\n",
        "  yhat_valid=rfclf.predict(X_valid)\n",
        "  MSE_valid=metrics.mean_squared_error(yhat_valid,y_valid)\n",
        "  valid_score=rfclf.score(X_valid,y_valid)\n",
        "\n",
        "  rfclf.fit(X_train,y_train)\n",
        "  yhat_test=rfclf.predict(X_test)\n",
        "  MSE_test=metrics.mean_squared_error(yhat_test,y_test)\n",
        "  test_score=rfclf.score(X_test,y_test)\n",
        "  print(\"max_depth=\",i,\", Validation accuracy=\",valid_score,\", Test accuracy=\",test_score)"
      ],
      "metadata": {
        "colab": {
          "base_uri": "https://localhost:8080/"
        },
        "id": "Gjpn1XSYrly2",
        "outputId": "45d06c4a-a6f1-4c35-c6f2-2259783446fa"
      },
      "execution_count": null,
      "outputs": [
        {
          "output_type": "stream",
          "name": "stdout",
          "text": [
            "max_depth= 1 , Validation accuracy= 0.79 , Test accuracy= 0.7825\n",
            "max_depth= 2 , Validation accuracy= 0.7225 , Test accuracy= 0.8225\n",
            "max_depth= 3 , Validation accuracy= 0.81 , Test accuracy= 0.8275\n",
            "max_depth= 4 , Validation accuracy= 0.81 , Test accuracy= 0.8425\n",
            "max_depth= 5 , Validation accuracy= 0.815 , Test accuracy= 0.84\n",
            "max_depth= 6 , Validation accuracy= 0.8275 , Test accuracy= 0.875\n",
            "max_depth= 7 , Validation accuracy= 0.84 , Test accuracy= 0.85\n",
            "max_depth= 8 , Validation accuracy= 0.8525 , Test accuracy= 0.845\n",
            "max_depth= 9 , Validation accuracy= 0.86 , Test accuracy= 0.8475\n",
            "max_depth= 10 , Validation accuracy= 0.855 , Test accuracy= 0.86\n",
            "max_depth= 11 , Validation accuracy= 0.86 , Test accuracy= 0.86\n",
            "max_depth= 12 , Validation accuracy= 0.8625 , Test accuracy= 0.8675\n",
            "max_depth= 13 , Validation accuracy= 0.8625 , Test accuracy= 0.8625\n",
            "max_depth= 14 , Validation accuracy= 0.865 , Test accuracy= 0.86\n",
            "max_depth= 15 , Validation accuracy= 0.8625 , Test accuracy= 0.875\n",
            "max_depth= 16 , Validation accuracy= 0.8675 , Test accuracy= 0.86\n",
            "max_depth= 17 , Validation accuracy= 0.86 , Test accuracy= 0.86\n",
            "max_depth= 18 , Validation accuracy= 0.8525 , Test accuracy= 0.865\n",
            "max_depth= 19 , Validation accuracy= 0.865 , Test accuracy= 0.86\n",
            "max_depth= 20 , Validation accuracy= 0.85 , Test accuracy= 0.855\n",
            "max_depth= 21 , Validation accuracy= 0.8575 , Test accuracy= 0.8675\n",
            "max_depth= 22 , Validation accuracy= 0.845 , Test accuracy= 0.8575\n",
            "max_depth= 23 , Validation accuracy= 0.87 , Test accuracy= 0.8575\n",
            "max_depth= 24 , Validation accuracy= 0.865 , Test accuracy= 0.86\n",
            "max_depth= 25 , Validation accuracy= 0.865 , Test accuracy= 0.8675\n",
            "max_depth= 26 , Validation accuracy= 0.865 , Test accuracy= 0.875\n",
            "max_depth= 27 , Validation accuracy= 0.855 , Test accuracy= 0.865\n",
            "max_depth= 28 , Validation accuracy= 0.8625 , Test accuracy= 0.85\n",
            "max_depth= 29 , Validation accuracy= 0.8725 , Test accuracy= 0.85\n"
          ]
        }
      ]
    },
    {
      "cell_type": "code",
      "source": [
        "# changing min sample split The minimum number of samples required to split an internal node:\n",
        "for i in range(2,20):\n",
        "  rfclf=RandomForestClassifier(min_samples_split=i,n_estimators=21, max_depth=6)\n",
        "  rfclf.fit(X_train,y1_train)\n",
        "  yhat_valid=rfclf.predict(X_valid)\n",
        "  MSE_valid=metrics.mean_squared_error(yhat_valid,y_valid)\n",
        "  valid_score=rfclf.score(X_valid,y_valid)\n",
        "\n",
        "  rfclf.fit(X_train,y_train)\n",
        "  yhat_test=rfclf.predict(X_test)\n",
        "  MSE_test=metrics.mean_squared_error(yhat_test,y_test)\n",
        "  test_score=rfclf.score(X_test,y_test)\n",
        "  \n",
        "  print(\"min_samples_split=\",i,\", Validation accuracy=\",valid_score,\", Test accuracy=\",test_score)"
      ],
      "metadata": {
        "colab": {
          "base_uri": "https://localhost:8080/"
        },
        "id": "-xi7wi2pvweh",
        "outputId": "0ed89d22-ad17-40a8-c12a-0375af15635b"
      },
      "execution_count": null,
      "outputs": [
        {
          "output_type": "stream",
          "name": "stdout",
          "text": [
            "min_samples_split= 2 , Validation accuracy= 0.8325 , Test accuracy= 0.8475\n",
            "min_samples_split= 3 , Validation accuracy= 0.8325 , Test accuracy= 0.855\n",
            "min_samples_split= 4 , Validation accuracy= 0.84 , Test accuracy= 0.8375\n",
            "min_samples_split= 5 , Validation accuracy= 0.8225 , Test accuracy= 0.855\n",
            "min_samples_split= 6 , Validation accuracy= 0.84 , Test accuracy= 0.8575\n",
            "min_samples_split= 7 , Validation accuracy= 0.8475 , Test accuracy= 0.8525\n",
            "min_samples_split= 8 , Validation accuracy= 0.815 , Test accuracy= 0.84\n",
            "min_samples_split= 9 , Validation accuracy= 0.83 , Test accuracy= 0.855\n",
            "min_samples_split= 10 , Validation accuracy= 0.8475 , Test accuracy= 0.8375\n",
            "min_samples_split= 11 , Validation accuracy= 0.8375 , Test accuracy= 0.8475\n",
            "min_samples_split= 12 , Validation accuracy= 0.825 , Test accuracy= 0.855\n",
            "min_samples_split= 13 , Validation accuracy= 0.82 , Test accuracy= 0.855\n",
            "min_samples_split= 14 , Validation accuracy= 0.8275 , Test accuracy= 0.85\n",
            "min_samples_split= 15 , Validation accuracy= 0.8275 , Test accuracy= 0.855\n",
            "min_samples_split= 16 , Validation accuracy= 0.83 , Test accuracy= 0.8675\n",
            "min_samples_split= 17 , Validation accuracy= 0.8375 , Test accuracy= 0.855\n",
            "min_samples_split= 18 , Validation accuracy= 0.8375 , Test accuracy= 0.86\n",
            "min_samples_split= 19 , Validation accuracy= 0.8325 , Test accuracy= 0.855\n"
          ]
        }
      ]
    },
    {
      "cell_type": "code",
      "source": [
        "for i in range(2,20):\n",
        "  rfclf=RandomForestClassifier(min_samples_leaf=i,n_estimators=21, max_depth=6)\n",
        "  rfclf.fit(X_train,y1_train)\n",
        "  yhat_valid=rfclf.predict(X_valid)\n",
        "  MSE_valid=metrics.mean_squared_error(yhat_valid,y_valid)\n",
        "  valid_score=rfclf.score(X_valid,y_valid)\n",
        "\n",
        "  rfclf.fit(X_train,y_train)\n",
        "  yhat_test=rfclf.predict(X_test)\n",
        "  MSE_test=metrics.mean_squared_error(yhat_test,y_test)\n",
        "  test_score=rfclf.score(X_test,y_test)\n",
        "  \n",
        "  print(\"min_samples_leaf=\",i,\", Validation accuracy=\",valid_score,\", Test accuracy=\",test_score)"
      ],
      "metadata": {
        "colab": {
          "base_uri": "https://localhost:8080/"
        },
        "id": "UrAcCHmAKiev",
        "outputId": "0115aa3a-f98b-4139-ad56-a0e43e29ca96"
      },
      "execution_count": null,
      "outputs": [
        {
          "output_type": "stream",
          "name": "stdout",
          "text": [
            "min_samples_leaf= 2 , Validation accuracy= 0.8375 , Test accuracy= 0.85\n",
            "min_samples_leaf= 3 , Validation accuracy= 0.84 , Test accuracy= 0.85\n",
            "min_samples_leaf= 4 , Validation accuracy= 0.825 , Test accuracy= 0.8475\n",
            "min_samples_leaf= 5 , Validation accuracy= 0.8275 , Test accuracy= 0.8475\n",
            "min_samples_leaf= 6 , Validation accuracy= 0.8275 , Test accuracy= 0.845\n",
            "min_samples_leaf= 7 , Validation accuracy= 0.8275 , Test accuracy= 0.855\n",
            "min_samples_leaf= 8 , Validation accuracy= 0.84 , Test accuracy= 0.8475\n",
            "min_samples_leaf= 9 , Validation accuracy= 0.84 , Test accuracy= 0.855\n",
            "min_samples_leaf= 10 , Validation accuracy= 0.845 , Test accuracy= 0.86\n",
            "min_samples_leaf= 11 , Validation accuracy= 0.8275 , Test accuracy= 0.8375\n",
            "min_samples_leaf= 12 , Validation accuracy= 0.8275 , Test accuracy= 0.8525\n",
            "min_samples_leaf= 13 , Validation accuracy= 0.8325 , Test accuracy= 0.8525\n",
            "min_samples_leaf= 14 , Validation accuracy= 0.8275 , Test accuracy= 0.84\n",
            "min_samples_leaf= 15 , Validation accuracy= 0.82 , Test accuracy= 0.8525\n",
            "min_samples_leaf= 16 , Validation accuracy= 0.83 , Test accuracy= 0.84\n",
            "min_samples_leaf= 17 , Validation accuracy= 0.8275 , Test accuracy= 0.845\n",
            "min_samples_leaf= 18 , Validation accuracy= 0.835 , Test accuracy= 0.8425\n",
            "min_samples_leaf= 19 , Validation accuracy= 0.8325 , Test accuracy= 0.84\n"
          ]
        }
      ]
    },
    {
      "cell_type": "code",
      "metadata": {
        "id": "1dVNE9MKwDPt"
      },
      "source": [
        "rfclf.feature_importances_"
      ],
      "execution_count": null,
      "outputs": []
    },
    {
      "cell_type": "markdown",
      "source": [
        "# Gradient and XBG Boosting"
      ],
      "metadata": {
        "id": "tjJfGyh9qVW6"
      }
    },
    {
      "cell_type": "code",
      "metadata": {
        "colab": {
          "base_uri": "https://localhost:8080/"
        },
        "id": "hvIi4tfynPUr",
        "outputId": "df139ca8-2ace-4262-9117-6185711914c6"
      },
      "source": [
        "# gradient boosting for classification\n",
        "from sklearn.ensemble import GradientBoostingClassifier\n",
        "y1_train = np.ravel(y_train)\n",
        "\n",
        "gbc=GradientBoostingClassifier()\n",
        "gbc.fit(X_train,y1_train)\n",
        "yhat_valid=gbc.predict(X_valid)\n",
        "MSE_valid=metrics.mean_squared_error(yhat_valid,y_valid)\n",
        "valid_score=gbc.score(X_valid,y_valid)\n",
        "\n",
        "gbc.fit(X_train,y_train)\n",
        "yhat_test=gbc.predict(X_test)\n",
        "MSE_test=metrics.mean_squared_error(yhat_test,y_test)\n",
        "test_score=gbc.score(X_test,y_test)\n",
        "print(\"Validation accuracy=\",valid_score,\", Test accuracy=\",test_score)"
      ],
      "execution_count": null,
      "outputs": [
        {
          "output_type": "stream",
          "name": "stdout",
          "text": [
            "Validation accuracy= 0.8725 , Test accuracy= 0.8675\n"
          ]
        }
      ]
    },
    {
      "cell_type": "code",
      "source": [
        "from sklearn.ensemble import GradientBoostingClassifier\n",
        "y1_train = np.ravel(y_train)\n",
        "\n",
        "for i in range(50, 400, 25):\n",
        "  gbc=GradientBoostingClassifier(n_estimators=i)\n",
        "  gbc.fit(X_train,y1_train)\n",
        "  yhat_valid=gbc.predict(X_valid)\n",
        "  MSE_valid=metrics.mean_squared_error(yhat_valid,y_valid)\n",
        "  valid_score=gbc.score(X_valid,y_valid)\n",
        "\n",
        "  gbc.fit(X_train,y_train)\n",
        "  yhat_test=gbc.predict(X_test)\n",
        "  MSE_test=metrics.mean_squared_error(yhat_test,y_test)\n",
        "  test_score=gbc.score(X_test,y_test)\n",
        "  print(\"N_estimators=\",i,\"Validation accuracy=\",valid_score,\", Test accuracy=\",test_score)"
      ],
      "metadata": {
        "colab": {
          "base_uri": "https://localhost:8080/"
        },
        "id": "EJzeAJfThyJR",
        "outputId": "eecbe80a-e066-4432-b3a8-980b7a348225"
      },
      "execution_count": null,
      "outputs": [
        {
          "output_type": "stream",
          "name": "stdout",
          "text": [
            "N_estimators= 50 Validation accuracy= 0.855 , Test accuracy= 0.8725\n",
            "N_estimators= 75 Validation accuracy= 0.87 , Test accuracy= 0.875\n",
            "N_estimators= 100 Validation accuracy= 0.8725 , Test accuracy= 0.865\n",
            "N_estimators= 125 Validation accuracy= 0.8725 , Test accuracy= 0.875\n",
            "N_estimators= 150 Validation accuracy= 0.875 , Test accuracy= 0.8725\n",
            "N_estimators= 175 Validation accuracy= 0.87 , Test accuracy= 0.8675\n",
            "N_estimators= 200 Validation accuracy= 0.865 , Test accuracy= 0.8725\n",
            "N_estimators= 225 Validation accuracy= 0.865 , Test accuracy= 0.875\n",
            "N_estimators= 250 Validation accuracy= 0.8675 , Test accuracy= 0.8725\n",
            "N_estimators= 275 Validation accuracy= 0.8675 , Test accuracy= 0.875\n",
            "N_estimators= 300 Validation accuracy= 0.8675 , Test accuracy= 0.885\n",
            "N_estimators= 325 Validation accuracy= 0.865 , Test accuracy= 0.8775\n",
            "N_estimators= 350 Validation accuracy= 0.8675 , Test accuracy= 0.875\n",
            "N_estimators= 375 Validation accuracy= 0.8625 , Test accuracy= 0.8775\n"
          ]
        }
      ]
    },
    {
      "cell_type": "code",
      "source": [
        "for i in range(1,30):\n",
        "  gbc=GradientBoostingClassifier(n_estimators=300, max_depth=i)\n",
        "  gbc.fit(X_train,y1_train)\n",
        "  yhat_valid=gbc.predict(X_valid)\n",
        "  MSE_valid=metrics.mean_squared_error(yhat_valid,y_valid)\n",
        "  valid_score=gbc.score(X_valid,y_valid)\n",
        "\n",
        "  gbc.fit(X_train,y_train)\n",
        "  yhat_test=gbc.predict(X_test)\n",
        "  MSE_test=metrics.mean_squared_error(yhat_test,y_test)\n",
        "  test_score=gbc.score(X_test,y_test)\n",
        "  print(\"max_depth=\",i,\"Validation accuracy=\",valid_score,\", Test accuracy=\",test_score)"
      ],
      "metadata": {
        "colab": {
          "base_uri": "https://localhost:8080/",
          "height": 641
        },
        "id": "fDnp5kAHjCiL",
        "outputId": "a9893151-7c1e-4791-96cf-efc3dbd3f245"
      },
      "execution_count": null,
      "outputs": [
        {
          "output_type": "stream",
          "name": "stdout",
          "text": [
            "max_depth= 1 Validation accuracy= 0.8425 , Test accuracy= 0.84\n",
            "max_depth= 2 Validation accuracy= 0.86 , Test accuracy= 0.86\n",
            "max_depth= 3 Validation accuracy= 0.8675 , Test accuracy= 0.88\n",
            "max_depth= 4 Validation accuracy= 0.86 , Test accuracy= 0.8725\n",
            "max_depth= 5 Validation accuracy= 0.87 , Test accuracy= 0.8875\n",
            "max_depth= 6 Validation accuracy= 0.8675 , Test accuracy= 0.8725\n",
            "max_depth= 7 Validation accuracy= 0.8625 , Test accuracy= 0.88\n",
            "max_depth= 8 Validation accuracy= 0.865 , Test accuracy= 0.8775\n",
            "max_depth= 9 Validation accuracy= 0.8775 , Test accuracy= 0.8725\n",
            "max_depth= 10 Validation accuracy= 0.87 , Test accuracy= 0.8625\n",
            "max_depth= 11 Validation accuracy= 0.86 , Test accuracy= 0.87\n",
            "max_depth= 12 Validation accuracy= 0.8675 , Test accuracy= 0.86\n",
            "max_depth= 13 Validation accuracy= 0.865 , Test accuracy= 0.86\n",
            "max_depth= 14 Validation accuracy= 0.855 , Test accuracy= 0.8575\n"
          ]
        },
        {
          "output_type": "error",
          "ename": "KeyboardInterrupt",
          "evalue": "ignored",
          "traceback": [
            "\u001b[0;31m---------------------------------------------------------------------------\u001b[0m",
            "\u001b[0;31mKeyboardInterrupt\u001b[0m                         Traceback (most recent call last)",
            "\u001b[0;32m<ipython-input-30-e83ded59ee66>\u001b[0m in \u001b[0;36m<module>\u001b[0;34m()\u001b[0m\n\u001b[1;32m      1\u001b[0m \u001b[0;32mfor\u001b[0m \u001b[0mi\u001b[0m \u001b[0;32min\u001b[0m \u001b[0mrange\u001b[0m\u001b[0;34m(\u001b[0m\u001b[0;36m1\u001b[0m\u001b[0;34m,\u001b[0m\u001b[0;36m30\u001b[0m\u001b[0;34m)\u001b[0m\u001b[0;34m:\u001b[0m\u001b[0;34m\u001b[0m\u001b[0;34m\u001b[0m\u001b[0m\n\u001b[1;32m      2\u001b[0m   \u001b[0mgbc\u001b[0m\u001b[0;34m=\u001b[0m\u001b[0mGradientBoostingClassifier\u001b[0m\u001b[0;34m(\u001b[0m\u001b[0mn_estimators\u001b[0m\u001b[0;34m=\u001b[0m\u001b[0;36m300\u001b[0m\u001b[0;34m,\u001b[0m \u001b[0mmax_depth\u001b[0m\u001b[0;34m=\u001b[0m\u001b[0mi\u001b[0m\u001b[0;34m)\u001b[0m\u001b[0;34m\u001b[0m\u001b[0;34m\u001b[0m\u001b[0m\n\u001b[0;32m----> 3\u001b[0;31m   \u001b[0mgbc\u001b[0m\u001b[0;34m.\u001b[0m\u001b[0mfit\u001b[0m\u001b[0;34m(\u001b[0m\u001b[0mX_train\u001b[0m\u001b[0;34m,\u001b[0m\u001b[0my1_train\u001b[0m\u001b[0;34m)\u001b[0m\u001b[0;34m\u001b[0m\u001b[0;34m\u001b[0m\u001b[0m\n\u001b[0m\u001b[1;32m      4\u001b[0m   \u001b[0myhat_valid\u001b[0m\u001b[0;34m=\u001b[0m\u001b[0mgbc\u001b[0m\u001b[0;34m.\u001b[0m\u001b[0mpredict\u001b[0m\u001b[0;34m(\u001b[0m\u001b[0mX_valid\u001b[0m\u001b[0;34m)\u001b[0m\u001b[0;34m\u001b[0m\u001b[0;34m\u001b[0m\u001b[0m\n\u001b[1;32m      5\u001b[0m   \u001b[0mMSE_valid\u001b[0m\u001b[0;34m=\u001b[0m\u001b[0mmetrics\u001b[0m\u001b[0;34m.\u001b[0m\u001b[0mmean_squared_error\u001b[0m\u001b[0;34m(\u001b[0m\u001b[0myhat_valid\u001b[0m\u001b[0;34m,\u001b[0m\u001b[0my_valid\u001b[0m\u001b[0;34m)\u001b[0m\u001b[0;34m\u001b[0m\u001b[0;34m\u001b[0m\u001b[0m\n",
            "\u001b[0;32m/usr/local/lib/python3.7/dist-packages/sklearn/ensemble/_gb.py\u001b[0m in \u001b[0;36mfit\u001b[0;34m(self, X, y, sample_weight, monitor)\u001b[0m\n\u001b[1;32m    594\u001b[0m             \u001b[0msample_weight_val\u001b[0m\u001b[0;34m,\u001b[0m\u001b[0;34m\u001b[0m\u001b[0;34m\u001b[0m\u001b[0m\n\u001b[1;32m    595\u001b[0m             \u001b[0mbegin_at_stage\u001b[0m\u001b[0;34m,\u001b[0m\u001b[0;34m\u001b[0m\u001b[0;34m\u001b[0m\u001b[0m\n\u001b[0;32m--> 596\u001b[0;31m             \u001b[0mmonitor\u001b[0m\u001b[0;34m,\u001b[0m\u001b[0;34m\u001b[0m\u001b[0;34m\u001b[0m\u001b[0m\n\u001b[0m\u001b[1;32m    597\u001b[0m         )\n\u001b[1;32m    598\u001b[0m \u001b[0;34m\u001b[0m\u001b[0m\n",
            "\u001b[0;32m/usr/local/lib/python3.7/dist-packages/sklearn/ensemble/_gb.py\u001b[0m in \u001b[0;36m_fit_stages\u001b[0;34m(self, X, y, raw_predictions, sample_weight, random_state, X_val, y_val, sample_weight_val, begin_at_stage, monitor)\u001b[0m\n\u001b[1;32m    670\u001b[0m                 \u001b[0mrandom_state\u001b[0m\u001b[0;34m,\u001b[0m\u001b[0;34m\u001b[0m\u001b[0;34m\u001b[0m\u001b[0m\n\u001b[1;32m    671\u001b[0m                 \u001b[0mX_csc\u001b[0m\u001b[0;34m,\u001b[0m\u001b[0;34m\u001b[0m\u001b[0;34m\u001b[0m\u001b[0m\n\u001b[0;32m--> 672\u001b[0;31m                 \u001b[0mX_csr\u001b[0m\u001b[0;34m,\u001b[0m\u001b[0;34m\u001b[0m\u001b[0;34m\u001b[0m\u001b[0m\n\u001b[0m\u001b[1;32m    673\u001b[0m             )\n\u001b[1;32m    674\u001b[0m \u001b[0;34m\u001b[0m\u001b[0m\n",
            "\u001b[0;32m/usr/local/lib/python3.7/dist-packages/sklearn/ensemble/_gb.py\u001b[0m in \u001b[0;36m_fit_stage\u001b[0;34m(self, i, X, y, raw_predictions, sample_weight, sample_mask, random_state, X_csc, X_csr)\u001b[0m\n\u001b[1;32m    244\u001b[0m \u001b[0;34m\u001b[0m\u001b[0m\n\u001b[1;32m    245\u001b[0m             \u001b[0mX\u001b[0m \u001b[0;34m=\u001b[0m \u001b[0mX_csr\u001b[0m \u001b[0;32mif\u001b[0m \u001b[0mX_csr\u001b[0m \u001b[0;32mis\u001b[0m \u001b[0;32mnot\u001b[0m \u001b[0;32mNone\u001b[0m \u001b[0;32melse\u001b[0m \u001b[0mX\u001b[0m\u001b[0;34m\u001b[0m\u001b[0;34m\u001b[0m\u001b[0m\n\u001b[0;32m--> 246\u001b[0;31m             \u001b[0mtree\u001b[0m\u001b[0;34m.\u001b[0m\u001b[0mfit\u001b[0m\u001b[0;34m(\u001b[0m\u001b[0mX\u001b[0m\u001b[0;34m,\u001b[0m \u001b[0mresidual\u001b[0m\u001b[0;34m,\u001b[0m \u001b[0msample_weight\u001b[0m\u001b[0;34m=\u001b[0m\u001b[0msample_weight\u001b[0m\u001b[0;34m,\u001b[0m \u001b[0mcheck_input\u001b[0m\u001b[0;34m=\u001b[0m\u001b[0;32mFalse\u001b[0m\u001b[0;34m)\u001b[0m\u001b[0;34m\u001b[0m\u001b[0;34m\u001b[0m\u001b[0m\n\u001b[0m\u001b[1;32m    247\u001b[0m \u001b[0;34m\u001b[0m\u001b[0m\n\u001b[1;32m    248\u001b[0m             \u001b[0;31m# update tree leaves\u001b[0m\u001b[0;34m\u001b[0m\u001b[0;34m\u001b[0m\u001b[0;34m\u001b[0m\u001b[0m\n",
            "\u001b[0;32m/usr/local/lib/python3.7/dist-packages/sklearn/tree/_classes.py\u001b[0m in \u001b[0;36mfit\u001b[0;34m(self, X, y, sample_weight, check_input, X_idx_sorted)\u001b[0m\n\u001b[1;32m   1318\u001b[0m             \u001b[0msample_weight\u001b[0m\u001b[0;34m=\u001b[0m\u001b[0msample_weight\u001b[0m\u001b[0;34m,\u001b[0m\u001b[0;34m\u001b[0m\u001b[0;34m\u001b[0m\u001b[0m\n\u001b[1;32m   1319\u001b[0m             \u001b[0mcheck_input\u001b[0m\u001b[0;34m=\u001b[0m\u001b[0mcheck_input\u001b[0m\u001b[0;34m,\u001b[0m\u001b[0;34m\u001b[0m\u001b[0;34m\u001b[0m\u001b[0m\n\u001b[0;32m-> 1320\u001b[0;31m             \u001b[0mX_idx_sorted\u001b[0m\u001b[0;34m=\u001b[0m\u001b[0mX_idx_sorted\u001b[0m\u001b[0;34m,\u001b[0m\u001b[0;34m\u001b[0m\u001b[0;34m\u001b[0m\u001b[0m\n\u001b[0m\u001b[1;32m   1321\u001b[0m         )\n\u001b[1;32m   1322\u001b[0m         \u001b[0;32mreturn\u001b[0m \u001b[0mself\u001b[0m\u001b[0;34m\u001b[0m\u001b[0;34m\u001b[0m\u001b[0m\n",
            "\u001b[0;32m/usr/local/lib/python3.7/dist-packages/sklearn/tree/_classes.py\u001b[0m in \u001b[0;36mfit\u001b[0;34m(self, X, y, sample_weight, check_input, X_idx_sorted)\u001b[0m\n\u001b[1;32m    418\u001b[0m             )\n\u001b[1;32m    419\u001b[0m \u001b[0;34m\u001b[0m\u001b[0m\n\u001b[0;32m--> 420\u001b[0;31m         \u001b[0mbuilder\u001b[0m\u001b[0;34m.\u001b[0m\u001b[0mbuild\u001b[0m\u001b[0;34m(\u001b[0m\u001b[0mself\u001b[0m\u001b[0;34m.\u001b[0m\u001b[0mtree_\u001b[0m\u001b[0;34m,\u001b[0m \u001b[0mX\u001b[0m\u001b[0;34m,\u001b[0m \u001b[0my\u001b[0m\u001b[0;34m,\u001b[0m \u001b[0msample_weight\u001b[0m\u001b[0;34m)\u001b[0m\u001b[0;34m\u001b[0m\u001b[0;34m\u001b[0m\u001b[0m\n\u001b[0m\u001b[1;32m    421\u001b[0m \u001b[0;34m\u001b[0m\u001b[0m\n\u001b[1;32m    422\u001b[0m         \u001b[0;32mif\u001b[0m \u001b[0mself\u001b[0m\u001b[0;34m.\u001b[0m\u001b[0mn_outputs_\u001b[0m \u001b[0;34m==\u001b[0m \u001b[0;36m1\u001b[0m \u001b[0;32mand\u001b[0m \u001b[0mis_classifier\u001b[0m\u001b[0;34m(\u001b[0m\u001b[0mself\u001b[0m\u001b[0;34m)\u001b[0m\u001b[0;34m:\u001b[0m\u001b[0;34m\u001b[0m\u001b[0;34m\u001b[0m\u001b[0m\n",
            "\u001b[0;31mKeyboardInterrupt\u001b[0m: "
          ]
        }
      ]
    },
    {
      "cell_type": "code",
      "source": [
        "gbc=GradientBoostingClassifier(n_estimators=300, max_depth=5, learning_rate=0.2)\n",
        "gbc.fit(X_train,y1_train)\n",
        "yhat_valid=gbc.predict(X_valid)\n",
        "MSE_valid=metrics.mean_squared_error(yhat_valid,y_valid)\n",
        "valid_score=gbc.score(X_valid,y_valid)\n",
        "\n",
        "gbc.fit(X_train,y_train)\n",
        "yhat_test=gbc.predict(X_test)\n",
        "MSE_test=metrics.mean_squared_error(yhat_test,y_test)\n",
        "test_score=gbc.score(X_test,y_test)\n",
        "print(\"Validation accuracy=\",valid_score,\", Test accuracy=\",test_score)"
      ],
      "metadata": {
        "colab": {
          "base_uri": "https://localhost:8080/"
        },
        "id": "cLh4g6kSkFh7",
        "outputId": "1f5d764c-f846-4d8f-f75b-8d4009b05785"
      },
      "execution_count": null,
      "outputs": [
        {
          "output_type": "stream",
          "name": "stdout",
          "text": [
            "Validation accuracy= 0.8675 , Test accuracy= 0.875\n"
          ]
        }
      ]
    },
    {
      "cell_type": "code",
      "source": [
        "gbc=GradientBoostingClassifier(n_estimators=300, max_depth=5, subsample=0.8)\n",
        "gbc.fit(X_train,y1_train)\n",
        "yhat_valid=gbc.predict(X_valid)\n",
        "MSE_valid=metrics.mean_squared_error(yhat_valid,y_valid)\n",
        "valid_score=gbc.score(X_valid,y_valid)\n",
        "\n",
        "gbc.fit(X_train,y_train)\n",
        "yhat_test=gbc.predict(X_test)\n",
        "MSE_test=metrics.mean_squared_error(yhat_test,y_test)\n",
        "test_score=gbc.score(X_test,y_test)\n",
        "print(\"Validation accuracy=\",valid_score,\", Test accuracy=\",test_score)"
      ],
      "metadata": {
        "colab": {
          "base_uri": "https://localhost:8080/"
        },
        "id": "cos86814kSCX",
        "outputId": "1fc83d5f-b336-428c-fc61-dd19c8fcc151"
      },
      "execution_count": null,
      "outputs": [
        {
          "output_type": "stream",
          "name": "stdout",
          "text": [
            "Validation accuracy= 0.87 , Test accuracy= 0.8725\n"
          ]
        }
      ]
    },
    {
      "cell_type": "code",
      "metadata": {
        "id": "RwCWyyIIn7xp"
      },
      "source": [
        "# XGB Boosting for classification\n",
        "from xgboost import XGBClassifier\n",
        "xgbclf=XGBClassifier()\n",
        "xgbclf.fit(X_train,y1_train)\n",
        "yhat_valid=xgbclf.predict(X_valid)\n",
        "MSE_valid=metrics.mean_squared_error(yhat_valid,y_valid)\n",
        "valid_score=xgbclf.score(X_valid,y_valid)\n",
        "\n",
        "xgbclf.fit(X_train,y_train)\n",
        "yhat_test=xgbclf.predict(X_test)\n",
        "MSE_test=metrics.mean_squared_error(yhat_test,y_test)\n",
        "test_score=xgbclf.score(X_test,y_test)\n",
        "print(\"Validation accuracy=\",valid_score,\", Test accuracy=\",test_score)"
      ],
      "execution_count": null,
      "outputs": []
    },
    {
      "cell_type": "markdown",
      "metadata": {
        "id": "3gQAWv70dOGc"
      },
      "source": [
        "# Neural Networks"
      ]
    },
    {
      "cell_type": "markdown",
      "source": [
        "https://machinelearningmastery.com/tutorial-first-neural-network-python-keras/"
      ],
      "metadata": {
        "id": "1CbEzwPSbwgT"
      }
    },
    {
      "cell_type": "code",
      "source": [
        "%matplotlib inline\n",
        "import numpy as np\n",
        "import matplotlib.pyplot as plt\n",
        "import pandas as pd\n",
        "import seaborn as sns\n",
        "\n",
        "import tensorflow\n",
        "import keras"
      ],
      "metadata": {
        "id": "UcbprGO1WG6h"
      },
      "execution_count": null,
      "outputs": []
    },
    {
      "cell_type": "code",
      "source": [
        "from numpy import loadtxt\n",
        "from keras.models import Sequential\n",
        "from keras.layers import Dense"
      ],
      "metadata": {
        "id": "Z1IXdFR5WKBm"
      },
      "execution_count": null,
      "outputs": []
    },
    {
      "cell_type": "code",
      "source": [
        "y1_train = np.ravel(y_train)"
      ],
      "metadata": {
        "id": "ZX-NWqkHBL9d"
      },
      "execution_count": null,
      "outputs": []
    },
    {
      "cell_type": "code",
      "source": [
        "gamma"
      ],
      "metadata": {
        "id": "Q9LR0bshaPFC"
      },
      "execution_count": null,
      "outputs": []
    },
    {
      "cell_type": "code",
      "source": [
        "import seaborn as sns\n",
        "import matplotlib as plt\n",
        "corr = gamma.corr()\n",
        "sns.heatmap(corr, \n",
        "            xticklabels=gamma.columns.values,\n",
        "            yticklabels=gamma.columns.values)"
      ],
      "metadata": {
        "id": "5HfSDY7tcfOM"
      },
      "execution_count": null,
      "outputs": []
    },
    {
      "cell_type": "markdown",
      "source": [
        "Not much light in this diagram except length and width. could test the correlation between these variables."
      ],
      "metadata": {
        "id": "5oXRbUSFcpPc"
      }
    },
    {
      "cell_type": "code",
      "source": [
        "gamma['Length'].corr( gamma[\"Width\"])"
      ],
      "metadata": {
        "id": "biU8PgN8cuO-"
      },
      "execution_count": null,
      "outputs": []
    },
    {
      "cell_type": "code",
      "source": [
        "gamma['Length'].corr( gamma[\"Size\"])"
      ],
      "metadata": {
        "id": "xBum-UZncz3c"
      },
      "execution_count": null,
      "outputs": []
    },
    {
      "cell_type": "code",
      "source": [
        "gamma['Size'].corr( gamma[\"Width\"])"
      ],
      "metadata": {
        "id": "_d1RlAhGc1pB"
      },
      "execution_count": null,
      "outputs": []
    },
    {
      "cell_type": "code",
      "source": [
        "# Normalise variables\n",
        "from sklearn.preprocessing import StandardScaler\n",
        "\n",
        "scaler = StandardScaler().fit(X_train)\n",
        "\n",
        "X_train = scaler.transform(X_train)\n",
        "\n",
        "X_test = scaler.transform(X_test)"
      ],
      "metadata": {
        "id": "OK24KKoBdICy"
      },
      "execution_count": null,
      "outputs": []
    },
    {
      "cell_type": "code",
      "source": [
        "# RMSProp, epochs=20, batch_size=40\n",
        "import matplotlib.pyplot as plt \n",
        "from tensorflow.keras.optimizers import Adam\n",
        "y1_train = np.ravel(y_train)\n",
        "\n",
        "model = Sequential()\n",
        "model.add(Dense(12, input_dim=10, activation='relu'))\n",
        "model.add(Dense(8, activation='softmax'))\n",
        "model.add(Dense(1, activation='sigmoid'))\n",
        "\n",
        "# opt = Adam(learning_rate=0.01)\n",
        "model.compile(optimizer=\"rmsprop\",loss=\"binary_crossentropy\",metrics=[\"accuracy\"])\n",
        "history=model.fit(X_train,y1_train,epochs=20,batch_size=40, verbose=1, validation_data=(X_test, y_test))\n",
        "\n",
        "#plot history for accuracy\n",
        "plt.plot(history.history['accuracy'])\n",
        "plt.plot(history.history['val_accuracy'])\n",
        "plt.title('model accuracy')\n",
        "plt.ylabel('accuracy')\n",
        "plt.xlabel('epoch')\n",
        "plt.legend(['train', 'test'], loc='upper left')\n",
        "plt.show()\n",
        "epochs=20\n",
        "#plot history for loss\n",
        "name = \" Loss, Epochs {}\".format(epochs)\n",
        "plt.figure(name)\n",
        "plt.plot(history.history['loss'])\n",
        "plt.plot(history.history['val_loss'])\n",
        "plt.title('model loss')\n",
        "plt.ylabel('loss')\n",
        "plt.xlabel('epoch')\n",
        "plt.legend(['train', 'test'], loc='upper left')\n",
        "plt.show()\n",
        "\n",
        "#get and display model test score and accuracy\n",
        "score = model.evaluate(X_test, y_test, verbose=0)\n",
        "print('Test score:', score[0])\n",
        "print('Test accuracy:', score[1])"
      ],
      "metadata": {
        "id": "8YAPLbKkemk2"
      },
      "execution_count": null,
      "outputs": []
    },
    {
      "cell_type": "code",
      "source": [
        "# AdaGrad, epochs=20, batch_size=40\n",
        "import matplotlib.pyplot as plt \n",
        "from tensorflow.keras.optimizers import Adam\n",
        "y1_train = np.ravel(y_train)\n",
        "\n",
        "model = Sequential()\n",
        "model.add(Dense(12, input_dim=10, activation='relu'))\n",
        "model.add(Dense(8, activation='softmax'))\n",
        "model.add(Dense(1, activation='sigmoid'))\n",
        "\n",
        "# opt = Adam(learning_rate=0.01)\n",
        "model.compile(optimizer=\"AdaGrad\",loss=\"binary_crossentropy\",metrics=[\"accuracy\"])\n",
        "history=model.fit(X_train,y1_train,epochs=20,batch_size=40, verbose=1, validation_data=(X_test, y_test))\n",
        "\n",
        "#plot history for accuracy\n",
        "plt.plot(history.history['accuracy'])\n",
        "plt.plot(history.history['val_accuracy'])\n",
        "plt.title('model accuracy')\n",
        "plt.ylabel('accuracy')\n",
        "plt.xlabel('epoch')\n",
        "plt.legend(['train', 'test'], loc='upper left')\n",
        "plt.show()\n",
        "epochs=20\n",
        "#plot history for loss\n",
        "name = \" Loss, Epochs {}\".format(epochs)\n",
        "plt.figure(name)\n",
        "plt.plot(history.history['loss'])\n",
        "plt.plot(history.history['val_loss'])\n",
        "plt.title('model loss')\n",
        "plt.ylabel('loss')\n",
        "plt.xlabel('epoch')\n",
        "plt.legend(['train', 'test'], loc='upper left')\n",
        "plt.show()\n",
        "\n",
        "#get and display model test score and accuracy\n",
        "score = model.evaluate(X_test, y_test, verbose=0)\n",
        "print('Test score:', score[0])\n",
        "print('Test accuracy:', score[1])"
      ],
      "metadata": {
        "id": "9I_jNVpFCDZO"
      },
      "execution_count": null,
      "outputs": []
    },
    {
      "cell_type": "code",
      "source": [
        "# Adam, epochs=20, batch_size=40\n",
        "import matplotlib.pyplot as plt \n",
        "from tensorflow.keras.optimizers import Adam\n",
        "y1_train = np.ravel(y_train)\n",
        "\n",
        "model = Sequential()\n",
        "model.add(Dense(12, input_dim=10, activation='relu'))\n",
        "model.add(Dense(8, activation='softmax'))\n",
        "model.add(Dense(1, activation='sigmoid'))\n",
        "\n",
        "# opt = Adam(learning_rate=0.01)\n",
        "model.compile(optimizer=\"rmsprop\",loss=\"binary_crossentropy\",metrics=[\"accuracy\"])\n",
        "history=model.fit(X_train,y1_train,epochs=20,batch_size=40, verbose=1, validation_data=(X_test, y_test))\n",
        "\n",
        "#plot history for accuracy\n",
        "plt.plot(history.history['accuracy'])\n",
        "plt.plot(history.history['val_accuracy'])\n",
        "plt.title('model accuracy')\n",
        "plt.ylabel('accuracy')\n",
        "plt.xlabel('epoch')\n",
        "plt.legend(['train', 'test'], loc='upper left')\n",
        "plt.show()\n",
        "epochs=20\n",
        "#plot history for loss\n",
        "name = \" Loss, Epochs {}\".format(epochs)\n",
        "plt.figure(name)\n",
        "plt.plot(history.history['loss'])\n",
        "plt.plot(history.history['val_loss'])\n",
        "plt.title('model loss')\n",
        "plt.ylabel('loss')\n",
        "plt.xlabel('epoch')\n",
        "plt.legend(['train', 'test'], loc='upper left')\n",
        "plt.show()\n",
        "\n",
        "#get and display model test score and accuracy\n",
        "score = model.evaluate(X_test, y_test, verbose=0)\n",
        "print('Test score:', score[0])\n",
        "print('Test accuracy:', score[1])"
      ],
      "metadata": {
        "id": "GlBm8eXgCHVj"
      },
      "execution_count": null,
      "outputs": []
    },
    {
      "cell_type": "code",
      "source": [
        "# Changing the learning rate of adam\n",
        "import matplotlib.pyplot as plt \n",
        "from tensorflow.keras.optimizers import Adam\n",
        "y1_train = np.ravel(y_train)\n",
        "\n",
        "model = Sequential()\n",
        "model.add(Dense(12, input_dim=10, activation='relu'))\n",
        "model.add(Dense(8, activation='softmax'))\n",
        "model.add(Dense(1, activation='sigmoid'))\n",
        "\n",
        "opt = Adam(learning_rate=0.01)\n",
        "model.compile(optimizer=opt,loss=\"binary_crossentropy\",metrics=[\"accuracy\"])\n",
        "history=model.fit(X_train,y1_train,epochs=20,batch_size=40, verbose=1, validation_data=(X_test, y_test))\n",
        "\n",
        "#plot history for accuracy\n",
        "plt.plot(history.history['accuracy'])\n",
        "plt.plot(history.history['val_accuracy'])\n",
        "plt.title('model accuracy')\n",
        "plt.ylabel('accuracy')\n",
        "plt.xlabel('epoch')\n",
        "plt.legend(['train', 'test'], loc='upper left')\n",
        "plt.show()\n",
        "epochs=20\n",
        "#plot history for loss\n",
        "name = \" Loss, Epochs {}\".format(epochs)\n",
        "plt.figure(name)\n",
        "plt.plot(history.history['loss'])\n",
        "plt.plot(history.history['val_loss'])\n",
        "plt.title('model loss')\n",
        "plt.ylabel('loss')\n",
        "plt.xlabel('epoch')\n",
        "plt.legend(['train', 'test'], loc='upper left')\n",
        "plt.show()\n",
        "\n",
        "#get and display model test score and accuracy\n",
        "score = model.evaluate(X_test, y_test, verbose=0)\n",
        "print('Test score:', score[0])\n",
        "print('Test accuracy:', score[1])"
      ],
      "metadata": {
        "id": "AMy43XkoCMKK"
      },
      "execution_count": null,
      "outputs": []
    },
    {
      "cell_type": "code",
      "source": [
        "_, accuracy = model.evaluate(X_test, y_test)\n",
        "print('Accuracy: %.2f' % (accuracy*100))"
      ],
      "metadata": {
        "id": "sPY8EA3wg_-Y"
      },
      "execution_count": null,
      "outputs": []
    }
  ]
}